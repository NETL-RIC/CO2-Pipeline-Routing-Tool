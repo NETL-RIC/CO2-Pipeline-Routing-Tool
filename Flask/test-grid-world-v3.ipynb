{
 "cells": [
  {
   "attachments": {},
   "cell_type": "markdown",
   "metadata": {},
   "source": [
    "## Defining a custom gym environment\n",
    "- Note this example was modified from the [gymnasium documentation](https://gymnasium.farama.org/tutorials/gymnasium_basics/environment_creation/)\n",
    "- Observations provide the cost surface, location of the agent and location of the target.\n",
    "- There are 4 actions in our environment, corresponding to the movements \"right\", \"up\", \"left\", and \"down\".\n",
    "- A done signal is issued as soon as the agent has navigated to the grid cell where the target is located.\n",
    "<!-- - Rewards are binary and sparse, meaning that the immediate reward is always zero, unless the agent has reached the target, then it is 1. -->"
   ]
  },
  {
   "cell_type": "code",
   "execution_count": 1,
   "metadata": {},
   "outputs": [],
   "source": [
    "import grid_world as _\n",
    "import gymnasium as gym\n",
    "\n",
    "import numpy as np\n",
    "\n",
    "import random\n",
    "from collections import deque, namedtuple\n",
    "\n",
    "import imageio\n",
    "import matplotlib.pyplot as plt\n",
    "from IPython import display\n",
    "\n",
    "import torch\n",
    "import torch.nn as nn\n",
    "import torch.nn.functional as F\n",
    "import torch.optim as optim\n",
    "# from gymnasium.wrappers import FlattenObservation"
   ]
  },
  {
   "cell_type": "code",
   "execution_count": 2,
   "metadata": {},
   "outputs": [
    {
     "data": {
      "text/plain": [
       "True"
      ]
     },
     "execution_count": 2,
     "metadata": {},
     "output_type": "execute_result"
    }
   ],
   "source": [
    "# Check if cuda/GPU available\n",
    "torch.cuda.is_available()"
   ]
  },
  {
   "cell_type": "code",
   "execution_count": 3,
   "metadata": {},
   "outputs": [],
   "source": [
    "# Import the custom gym environment\n",
    "env = gym.make('grid_world/GridWorld-v3')\n",
    "observation, info = env.reset()\n",
    "env.close()"
   ]
  },
  {
   "cell_type": "code",
   "execution_count": 4,
   "metadata": {},
   "outputs": [
    {
     "name": "stdout",
     "output_type": "stream",
     "text": [
      "{'agent': array([0, 3]), 'target': array([3, 2])}\n",
      "[0 3 3 2]\n"
     ]
    }
   ],
   "source": [
    "shape = (5,5)\n",
    "env = gym.make('grid_world/GridWorld-v3', render_mode=None, shape=shape)\n",
    "observation, info = env.reset(grid_seed=2, start_target_seed=42)\n",
    "print(info)\n",
    "print(observation)"
   ]
  },
  {
   "attachments": {},
   "cell_type": "markdown",
   "metadata": {},
   "source": [
    "## Rendering in human mode"
   ]
  },
  {
   "cell_type": "code",
   "execution_count": 5,
   "metadata": {},
   "outputs": [
    {
     "name": "stdout",
     "output_type": "stream",
     "text": [
      "{'agent': array([2, 0]), 'target': array([0, 1])}\n",
      "{'agent': array([2, 0]), 'target': array([0, 1])}\n",
      "{'agent': array([3, 0]), 'target': array([0, 1])}\n",
      "{'agent': array([4, 0]), 'target': array([0, 1])}\n",
      "{'agent': array([4, 0]), 'target': array([0, 1])}\n",
      "{'agent': array([4, 1]), 'target': array([0, 1])}\n",
      "{'agent': array([4, 0]), 'target': array([0, 1])}\n",
      "{'agent': array([3, 0]), 'target': array([0, 1])}\n",
      "{'agent': array([4, 0]), 'target': array([0, 1])}\n",
      "{'agent': array([4, 0]), 'target': array([0, 1])}\n"
     ]
    }
   ],
   "source": [
    "## Test the environment\n",
    "env = gym.make('grid_world/GridWorld-v3', render_mode='human', shape=shape)\n",
    "observation, info = env.reset()\n",
    "t = 0\n",
    "rng = np.random.default_rng()\n",
    "\n",
    "\n",
    "for i in range(10):\n",
    "      \n",
    "   action = env.action_space.sample()\n",
    "   observation, reward, terminated, truncated, info = env.step(action)\n",
    "   print(info)\n",
    "\n",
    "\n",
    "   if terminated or truncated:\n",
    "      observation, info = env.reset(seed=10)\n",
    "      t += 1\n",
    "\n",
    "env.close()"
   ]
  },
  {
   "attachments": {},
   "cell_type": "markdown",
   "metadata": {},
   "source": [
    "## Rendering in RGB Array Mode (gif)"
   ]
  },
  {
   "cell_type": "code",
   "execution_count": 6,
   "metadata": {},
   "outputs": [],
   "source": [
    "# INSTANTIATE THE ENVIRONMENT\n",
    "env = gym.make('grid_world/GridWorld-v3', render_mode='rgb_array', shape=shape)\n",
    "\n",
    "\n",
    "random_images = []\n",
    "observation, info = env.reset()\n",
    "\n",
    "# SAVE IMAGE OF THE INITIAL STATE\n",
    "random_images.append(env.render())\n",
    "\n",
    "# ITERATE OVER SET NUMBER OF TRANSITIONS\n",
    "for i in range(100):\n",
    "\n",
    "    if i%2 == 0:\n",
    "        action = 0\n",
    "    else:\n",
    "      action = 1\n",
    "\n",
    "    # TAKE A RANDOM ACTION AND OBSERVE THE RESULT\n",
    "    observation, reward, terminated, truncated, info = env.step(action)\n",
    "    random_images.append(env.render())\n",
    "\n",
    "    if terminated or truncated:\n",
    "        observation, info = env.reset()\n",
    "\n",
    "env.close()\n",
    "imageio.mimsave('./gifs/random-net.gif', random_images, fps = 5)  "
   ]
  },
  {
   "cell_type": "code",
   "execution_count": 7,
   "metadata": {},
   "outputs": [],
   "source": [
    "class DQN(nn.Module):\n",
    "\n",
    "    def __init__(self, n_observations, hidden, n_actions):\n",
    "        super(DQN, self).__init__()\n",
    "        self.layer1 = nn.Linear(n_observations, hidden)\n",
    "        self.layer2 = nn.Linear(hidden, hidden)\n",
    "        self.layer3 = nn.Linear(hidden, n_actions)\n",
    "\n",
    "    def forward(self, x):\n",
    "        x = F.relu(self.layer1(x))\n",
    "        x = F.relu(self.layer2(x))\n",
    "        return self.layer3(x)"
   ]
  },
  {
   "cell_type": "code",
   "execution_count": 8,
   "metadata": {},
   "outputs": [],
   "source": [
    "Transition = namedtuple(\n",
    "    'Transition',\n",
    "    ('state', 'action', 'next_state', 'reward', 'done')\n",
    "    )\n",
    "\n",
    "\n",
    "class ReplayMemory(object):\n",
    "    \"\"\"\n",
    "    A class to store gym transitions\n",
    "    \"\"\"\n",
    "    def __init__(self, capacity):\n",
    "        self.memory = deque([], maxlen=capacity)\n",
    "\n",
    "    def push(self, *args):\n",
    "        \"\"\"Save a transition\"\"\"\n",
    "        self.memory.append(Transition(*args))\n",
    "\n",
    "    def sample(self, batch_size):\n",
    "        return random.sample(self.memory, batch_size)\n",
    "\n",
    "    def __len__(self):\n",
    "        return len(self.memory)"
   ]
  },
  {
   "cell_type": "code",
   "execution_count": 9,
   "metadata": {},
   "outputs": [],
   "source": [
    "# def concat_observation(state_dictionary):\n",
    "#     arrays = [arr for arr in state_dictionary.values()]\n",
    "#     return np.concatenate(arrays, axis=0)"
   ]
  },
  {
   "cell_type": "code",
   "execution_count": 10,
   "metadata": {},
   "outputs": [
    {
     "name": "stdout",
     "output_type": "stream",
     "text": [
      "Device: cuda\n",
      "Number of Actions: 4\n",
      "Observation Size 4\n"
     ]
    }
   ],
   "source": [
    "# BATCH_SIZE is the number of transitions sampled from the replay buffer\n",
    "# GAMMA is the discount factor as mentioned in the previous section\n",
    "# EPS_START is the starting value of epsilon\n",
    "# EPS_END is the final value of epsilon\n",
    "# EPS_DECAY controls the rate of exponential decay of epsilon, higher means a slower decay\n",
    "# TAU is the update rate of the target network\n",
    "# LR is the learning rate of the AdamW optimizer\n",
    "# HIDDEN is the number of units in the first and second layer\n",
    "# MEMORY is the length of the replay memory\n",
    "# NUM_EPISODES the number of training episodes\n",
    "BATCH_SIZE = 128\n",
    "GAMMA = 0.9\n",
    "EPS_START = 0.9\n",
    "EPS_END = 0.05\n",
    "EPS_DECAY = 10000\n",
    "TAU = 0.005\n",
    "LR = 1e-4\n",
    "HIDDEN = 256\n",
    "MEMORY = 1000\n",
    "NUM_EPISODES = 200\n",
    "SHAPE = (10,10)\n",
    "\n",
    "# Define device used for training\n",
    "device = torch.device('cuda' if torch.cuda.is_available() else 'cpu')\n",
    "print('Device:', device)\n",
    "\n",
    "env = gym.make('grid_world/GridWorld-v3', shape=SHAPE)\n",
    "\n",
    "# Get the number of actions available\n",
    "n_actions = env.action_space.n\n",
    "print('Number of Actions:', n_actions)\n",
    "\n",
    "# RESET THE ENVIRONMENT\n",
    "observation, info = env.reset()\n",
    "\n",
    "# GET THE NUMBER OF FEATURES IN A STATE\n",
    "n_observations = observation.shape[0]\n",
    "print('Observation Size', n_observations)\n",
    "\n",
    "# DEFINE THE POLICY AND TARGET NET AS INSTANCES OF THE DQN MODEL\n",
    "policy_net = DQN(n_observations, HIDDEN, n_actions).to(device)\n",
    "target_net = DQN(n_observations, HIDDEN, n_actions).to(device)\n",
    "\n",
    "# SYNC THE WEIGHTS OF THE TARGET AND POLICY NETS\n",
    "target_net.load_state_dict(policy_net.state_dict())\n",
    "\n",
    "# DEFINE THE OPTIMIZER\n",
    "optimizer = optim.AdamW(policy_net.parameters(), lr=LR, amsgrad=True)\n",
    "\n",
    "# DEFINE THE REPLAY MEMORY \n",
    "memory = ReplayMemory(MEMORY)\n",
    "\n",
    "steps_done = 0"
   ]
  },
  {
   "cell_type": "code",
   "execution_count": 11,
   "metadata": {},
   "outputs": [],
   "source": [
    "def eps_decay(steps_done):\n",
    "    eps_threshold = EPS_END + (EPS_START - EPS_END) * np.exp(-1. * steps_done / EPS_DECAY)\n",
    "    return eps_threshold"
   ]
  },
  {
   "cell_type": "code",
   "execution_count": 12,
   "metadata": {},
   "outputs": [
    {
     "name": "stdout",
     "output_type": "stream",
     "text": [
      "The observation:\n",
      "\n",
      "tensor([[0., 4., 5., 2.]], device='cuda:0') \n",
      "\n",
      "The policy net predictions:\n",
      "\n",
      "tensor([[-0.1472,  0.0037,  0.0409, -0.1019]], device='cuda:0') \n",
      "\n",
      "tensor([[2]], device='cuda:0') \n",
      "\n",
      "Using the select action function: \n",
      "\n",
      "tensor([[2]], device='cuda:0')\n"
     ]
    }
   ],
   "source": [
    "def select_action(state, eps):\n",
    "\n",
    "    threshold = random.random()\n",
    "\n",
    "    if threshold > eps:\n",
    "        with torch.no_grad():\n",
    "            # t.max(1) will return the largest column value of each row.\n",
    "            # second column on max result is index of where max element was\n",
    "            # found, so we pick action with the larger expected reward.\n",
    "            return policy_net(state).max(1)[1].view(1, 1)\n",
    "    else:\n",
    "        return torch.tensor([[env.action_space.sample()]], device=device, dtype=torch.long)\n",
    "\n",
    "\n",
    "# TEST YOUR FUNCTION\n",
    "observation, info = env.reset()\n",
    "state_tensor = torch.tensor(observation, dtype=torch.float32, device=device).unsqueeze(0)\n",
    "print('The observation:\\n')\n",
    "print(state_tensor, '\\n')\n",
    "print('The policy net predictions:\\n')\n",
    "with torch.no_grad():\n",
    "    print(policy_net(state_tensor), '\\n')\n",
    "    print(policy_net(state_tensor).max(1)[1].view(1, 1), '\\n')\n",
    "print('Using the select action function:', '\\n')\n",
    "action = select_action(state_tensor, eps=0)\n",
    "print(action)"
   ]
  },
  {
   "cell_type": "code",
   "execution_count": 13,
   "metadata": {},
   "outputs": [],
   "source": [
    "def optimize_model():\n",
    "\n",
    "    # CHECK THE LENGTH OF THE REPLAY MEMORY, RETURN NONE IF LENGTH LESS THAN\n",
    "    # THE BATCH_SIZE\n",
    "    if len(memory) < BATCH_SIZE:\n",
    "        return\n",
    "    \n",
    "    # SAMPLE A TRANSITION FROM THE REPLAY MEMORY\n",
    "    transitions = memory.sample(BATCH_SIZE)\n",
    "\n",
    "    # DEFINE THE BATCH AS TRANSITION NAMED TUPLE, THIS SPLITS state's, \n",
    "    # action's, next_state's, and reward's into tuples see the following link\n",
    "    # https://stackoverflow.com/a/19343/3343043\n",
    "    batch = Transition(*zip(*transitions))\n",
    "\n",
    "    # FIND THE INDICES OF TRANSITIONS THAT ARE NON-TERMINAL STATES\n",
    "    non_final_mask = torch.tensor(\n",
    "        tuple(map(lambda s: s is not None, batch.next_state)), \n",
    "        device=device, \n",
    "        dtype=torch.bool\n",
    "        )\n",
    "    \n",
    "    # FIND THAT STATES THAT ARE NON-TERMINAL STATES\n",
    "    non_final_next_states = torch.cat(\n",
    "        [s for s in batch.next_state if s is not None]\n",
    "        )\n",
    "    \n",
    "\n",
    "    ### CREATE 3 TENSORS ONE FOR THE STATES, ACTIONS AND REWARDS\n",
    "    # COMBINE THE STATE SAMPLES INTO SINGLE TENSOR WITH torch.cat()\n",
    "    state_batch = torch.cat(batch.state)\n",
    "    # COMBINE THE ACTION SAMPLES INTO SINGLE TENSOR WITH torch.cat()\n",
    "    action_batch = torch.cat(batch.action)\n",
    "    # COMBINE THE REWARD SAMPLES INTO SINGLE TENSOR WITH torch.cat()\n",
    "    reward_batch = torch.cat(batch.reward)\n",
    "\n",
    "    # GET THE ACTION VALUES OF POLICY NET FOR EACH ACTION WHICH WAS TAKEN\n",
    "    # HERE YOU SHOULD USE tensor.gather() METHOD SO YOU CAN SPECIFY WHICH \n",
    "    # ACTION WE ARE INTERESTED IN. WE ONLY WANT THE ACTION WHICH WAS TAKEN\n",
    "    # FOR THE TRANSACTION\n",
    "    state_action_values = policy_net(state_batch).gather(1, action_batch)\n",
    "\n",
    "    # CREATE TENSOR OF ZEROS TO STORE THE NEXT STATE VALUES\n",
    "    next_state_values = torch.zeros(BATCH_SIZE, device=device)\n",
    "    \n",
    "    # DO NOT CALCULATE GRADIENTS\n",
    "    with torch.no_grad():\n",
    "\n",
    "        # DEFINE THE NEXT STATE Q VALUES USING THE TARGET NET - max(Q_target(s', a'))\n",
    "        next_state_values[non_final_mask] = target_net(non_final_next_states).max(1)[0]\n",
    "        \n",
    "    # COMPUTE EXPECTED RETURN Y = Discount*max(Q_target(s',a)) + Reward \n",
    "    expected_state_action_values = (next_state_values * GAMMA) + reward_batch\n",
    "\n",
    "    # DEFINE THE HUBER LOSS\n",
    "    criterion = nn.SmoothL1Loss()\n",
    "\n",
    "    # CALCULATE THE LOSS L(Q_policy(s,a), Y)\n",
    "    loss = criterion(state_action_values, expected_state_action_values.unsqueeze(1))\n",
    "\n",
    "    # ZERO THE GRADIENTS\n",
    "    optimizer.zero_grad()\n",
    "\n",
    "    # PROPAGATE GRADIENT THROUGH NETWORK \n",
    "    loss.backward()\n",
    "\n",
    "    # IN PLACE GRADIENT CLIPPING\n",
    "    torch.nn.utils.clip_grad_value_(policy_net.parameters(), 100)\n",
    "\n",
    "    # TAKE AN OPTIMIZER STEP W = W - LR*GRADIENT\n",
    "    optimizer.step()\n",
    "\n",
    "    return loss\n"
   ]
  },
  {
   "cell_type": "code",
   "execution_count": 14,
   "metadata": {},
   "outputs": [
    {
     "data": {
      "text/plain": [
       "array([[1, 2, 3],\n",
       "       [0, 0, 0],\n",
       "       [7, 8, 9]])"
      ]
     },
     "execution_count": 14,
     "metadata": {},
     "output_type": "execute_result"
    }
   ],
   "source": [
    "a = np.array([[1,2,3], [4,5,6], [7,8,9]])\n",
    "b = np.array([[1], [0], [1]])\n",
    "a*b"
   ]
  },
  {
   "cell_type": "code",
   "execution_count": 15,
   "metadata": {},
   "outputs": [],
   "source": [
    "def plot_training(rewards, loss, eps, avg_rewards=None, nfns_ratio=None, done=False):\n",
    "    fig = plt.figure(1, figsize=(18, 12))\n",
    "\n",
    "    if done:\n",
    "        plt.clf()\n",
    "\n",
    "    else:\n",
    "        plt.clf()\n",
    "\n",
    "    # plt.subplots(ncols=2, figsize=(12,6))\n",
    "    ax1 = fig.add_subplot(2, 3, 1)\n",
    "    ax2 = fig.add_subplot(2, 3, 2)\n",
    "    ax3 = fig.add_subplot(2, 3, 3)\n",
    "    ax4 = fig.add_subplot(2, 3, 4)\n",
    "\n",
    "    ax1.set_xlabel('Episode')\n",
    "    ax1.set_ylabel('Reward')\n",
    "    ax1.plot(rewards)\n",
    "\n",
    "    if avg_rewards:\n",
    "        ax1.plot(avg_rewards)\n",
    "\n",
    "    ax2.set_xlabel('Batch')\n",
    "    ax2.set_ylabel('Loss')\n",
    "    ax2.plot(loss)\n",
    "    \n",
    "    ax3.set_xlabel('Action')\n",
    "    ax3.set_ylabel('Epsilon')\n",
    "    ax3.plot(eps)\n",
    "    \n",
    "    ax4.set_xlabel('Batch')\n",
    "    ax4.set_ylabel(\"Non-Final S' Ratio\")\n",
    "    ax4.plot(nfns_ratio)\n",
    "\n",
    "    # plt.pause(0.001)\n",
    "    \n",
    "    if not done:\n",
    "        display.display(plt.gcf())\n",
    "        display.clear_output(wait=True)\n",
    "    \n",
    "    else:\n",
    "        display.display(plt.gcf())"
   ]
  },
  {
   "cell_type": "code",
   "execution_count": 16,
   "metadata": {},
   "outputs": [],
   "source": [
    "episode_rewards = []\n",
    "avg_rewards = []\n",
    "max_reward = 0\n",
    "max_avg_reward = 0\n",
    "\n",
    "optim_steps = 0\n",
    "eps_values = []\n",
    "max_reward = 0\n",
    "max_avg_reward = 0\n",
    "nfns_ratio = []\n",
    "\n",
    "training_loss = []\n",
    "\n",
    "total_transitions = 0"
   ]
  },
  {
   "cell_type": "code",
   "execution_count": 24,
   "metadata": {},
   "outputs": [
    {
     "name": "stdout",
     "output_type": "stream",
     "text": [
      "Complete\n"
     ]
    },
    {
     "data": {
      "image/png": "[encoded data removed]",
      "text/plain": [
       "<Figure size 1800x1200 with 4 Axes>"
      ]
     },
     "metadata": {},
     "output_type": "display_data"
    }
   ],
   "source": [
    "# start = time()\n",
    "env = gym.make('grid_world/GridWorld-v3', shape=SHAPE)\n",
    "# env = gym.make(\"LunarLander-v2\")\n",
    "lr = LR\n",
    "NUM_EPISODES = 200\n",
    "total_truncated = 0\n",
    "grid_seed = 42\n",
    "start_target_seed = None\n",
    "\n",
    "for e in range(NUM_EPISODES):\n",
    "    observation, info = env.reset(grid_seed=grid_seed, start_target_seed=start_target_seed)\n",
    "    state = torch.tensor(observation, dtype=torch.float32, device=device).unsqueeze(0)\n",
    "    \n",
    "    done = 0\n",
    "    episode_reward = 0\n",
    "    \n",
    "    while not done:\n",
    "        total_transitions += 1\n",
    "        eps = eps_decay(total_transitions)\n",
    "        # action, eps = selector.select(state.reshape(1,-1))\n",
    "        eps_values.append(eps)\n",
    "\n",
    "        action = select_action(state, eps)\n",
    "\n",
    "        observation, reward, terminated, truncated, _ = env.step(action.item())\n",
    "        episode_reward += reward\n",
    "        reward = torch.tensor([reward], device=device)\n",
    "        done = terminated or truncated\n",
    "        if truncated:\n",
    "            total_truncated += 1\n",
    "\n",
    "        if terminated:\n",
    "            next_state = None\n",
    "        \n",
    "        else:\n",
    "            next_state = torch.tensor(observation, dtype=torch.float32, device=device).unsqueeze(0)\n",
    "\n",
    "        memory.push(state, action, next_state, reward, done)\n",
    "        state = next_state\n",
    "\n",
    "        # batch_loss, non_final_next_state_ratio = optimize_model([q_optimizer, t_optimizer], method='vanilla')\n",
    "        # nfns_ratio.append(non_final_next_state_ratio)\n",
    "\n",
    "        loss = optimize_model()\n",
    "\n",
    "        if loss is not None:\n",
    "            training_loss.append(loss.item())\n",
    "\n",
    "\n",
    "        # Get the network weights\n",
    "        # q_weights = [node.value.copy() for node in q_network.parameters()]\n",
    "        # t_weights = [node.value.copy() for node in t_network.parameters()]\n",
    "\n",
    "        # GET THE CURRENT WEIGHTS OF EACH NETWORK\n",
    "        target_net_state_dict = target_net.state_dict()\n",
    "        policy_net_state_dict = policy_net.state_dict()\n",
    "\n",
    "        # CALCULATE SOFT UPDATE OF TARGET NET WEIGHTS\n",
    "        # θ′ ← τ θ + (1 −τ )θ′\n",
    "        for key in policy_net_state_dict:\n",
    "            target_net_state_dict[key] = policy_net_state_dict[key]*TAU + target_net_state_dict[key]*(1-TAU)\n",
    "\n",
    "        # APPLY THE UPDATE TO THE TARGET NETWORK\n",
    "        target_net.load_state_dict(target_net_state_dict)\n",
    "    \n",
    "        # if batch_loss is not None:\n",
    "        #     optim_steps += 1\n",
    "        #     batch_losses.append(batch_loss)\n",
    "            \n",
    "        #     # Get the network weights\n",
    "        #     q_weights = [node.value.copy() for node in q_network.parameters()]\n",
    "        #     t_weights = [node.value.copy() for node in t_network.parameters()]\n",
    "\n",
    "        #     # Soft update of the target network's weights\n",
    "        #     # θ′ ← τ θ + (1 − τ)θ′\n",
    "        #     for i in range(len(q_weights)):\n",
    "        #         t_weights[i] = q_weights[i]*TAU + t_weights[i]*(1-TAU)\n",
    "\n",
    "        #     t_network.load_parameters(t_weights)\n",
    "\n",
    "        # if optim_steps%10000 == 0:\n",
    "        #     # Get the network weights\n",
    "        #     q_weights = [node.value.copy() for node in q_network.parameters()]\n",
    "        #     t_network.load_parameters(q_weights)\n",
    "\n",
    "\n",
    "        if done:\n",
    "            episode_rewards.append(episode_reward)\n",
    "            avg_rewards.append(np.average(episode_rewards[-100:]))\n",
    "\n",
    "            # if episode_reward > max_reward:\n",
    "            #     max_reward = episode_reward\n",
    "            #     for i, w in enumerate(q_weights):\n",
    "            #         layer = 'layer{}'.format(i)\n",
    "            #         np.save('./weights/{}.npy'.format(layer), w)\n",
    "\n",
    "            plot_training(episode_rewards, training_loss, eps_values, avg_rewards, nfns_ratio)\n",
    "\n",
    "print('Complete')\n",
    "# end = time()\n",
    "# plot_training(episode_rewards, show_result=True)\n",
    "plt.ioff()\n",
    "plt.show()"
   ]
  },
  {
   "cell_type": "code",
   "execution_count": 33,
   "metadata": {},
   "outputs": [
    {
     "name": "stdout",
     "output_type": "stream",
     "text": [
      "{'agent': array([5, 1]), 'target': array([0, 6])}\n",
      "[94.36703619360924, 92.74808293581009]\n"
     ]
    }
   ],
   "source": [
    "from time import sleep\n",
    "\n",
    "\n",
    "env = gym.make('grid_world/GridWorld-v3', render_mode='human', shape=SHAPE)\n",
    "\n",
    "# Initial observation and state\n",
    "observation, info = env.reset(grid_seed=grid_seed, start_target_seed=start_target_seed)\n",
    "state = torch.tensor(observation, dtype=torch.float32, device=device).unsqueeze(0)\n",
    "test_episode_rewards = []\n",
    "G = 0\n",
    "print(info)\n",
    "# sleep(3)\n",
    "\n",
    "for i in range(20):\n",
    "\n",
    "    action = policy_net(state).max(1)[1].item() # Learned policy\n",
    "    observation, reward, terminated, truncated, info = env.step(action)\n",
    "    state = torch.tensor(observation, dtype=torch.float32, device=device).unsqueeze(0)\n",
    "    # print(info)\n",
    "    G += reward\n",
    "    # sleep(3)\n",
    "\n",
    "    if terminated or truncated:\n",
    "        observation, info = env.reset(grid_seed=grid_seed, start_target_seed=start_target_seed)\n",
    "        test_episode_rewards.append(G)\n",
    "        G = 0\n",
    "        # print(info)\n",
    "        # sleep(3)\n",
    "\n",
    "    else:\n",
    "        G += reward\n",
    "\n",
    "env.close()\n",
    "print(test_episode_rewards)"
   ]
  },
  {
   "cell_type": "code",
   "execution_count": 19,
   "metadata": {},
   "outputs": [
    {
     "name": "stdout",
     "output_type": "stream",
     "text": [
      "[93.42887775599957, 95.29975510737859, 96.94404092431068, 97.33596475422382, 94.09967085719109]\n"
     ]
    }
   ],
   "source": [
    "## Test the environment\n",
    "env = gym.make('grid_world/GridWorld-v3', render_mode='rgb_array', shape=SHAPE)\n",
    "test_episode_rewards = []\n",
    "G = 0\n",
    "images = []\n",
    "\n",
    "observation, info = env.reset(grid_seed=grid_seed, start_target_seed=start_target_seed)\n",
    "images.append(env.render())\n",
    "\n",
    "for _ in range(100):\n",
    "    action = policy_net(state).max(1)[1].item() # Learned policy\n",
    "    observation, reward, terminated, truncated, info = env.step(action)\n",
    "    state = torch.tensor(observation, dtype=torch.float32, device=device).unsqueeze(0)\n",
    "    images.append(env.render())\n",
    "    G += reward\n",
    "\n",
    "    if terminated or truncated:\n",
    "        observation, info = env.reset(grid_seed=grid_seed, start_target_seed=start_target_seed)\n",
    "        test_episode_rewards.append(G)\n",
    "        G = 0\n",
    "\n",
    "\n",
    "env.close()\n",
    "print(test_episode_rewards)\n",
    "imageio.mimsave('./gifs/10-10-random_start-static_grid.gif', images, fps = 5)      "
   ]
  }
 ],
 "metadata": {
  "kernelspec": {
   "display_name": "torch",
   "language": "python",
   "name": "python3"
  },
  "language_info": {
   "codemirror_mode": {
    "name": "ipython",
    "version": 3
   },
   "file_extension": ".py",
   "mimetype": "text/x-python",
   "name": "python",
   "nbconvert_exporter": "python",
   "pygments_lexer": "ipython3",
   "version": "3.9.16"
  },
  "orig_nbformat": 4
 },
 "nbformat": 4,
 "nbformat_minor": 2
}
