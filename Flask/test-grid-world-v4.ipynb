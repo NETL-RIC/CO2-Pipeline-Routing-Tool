{
 "cells": [
  {
   "attachments": {},
   "cell_type": "markdown",
   "metadata": {},
   "source": [
    "## Defining a custom gym environment\n",
    "- Note this example was modified from the [gymnasium documentation](https://gymnasium.farama.org/tutorials/gymnasium_basics/environment_creation/)\n",
    "- Observations provide the cost surface, location of the agent and location of the target.\n",
    "- There are 4 actions in our environment, corresponding to the movements \"right\", \"up\", \"left\", and \"down\".\n",
    "- A done signal is issued as soon as the agent has navigated to the grid cell where the target is located.\n",
    "<!-- - Rewards are binary and sparse, meaning that the immediate reward is always zero, unless the agent has reached the target, then it is 1. -->"
   ]
  },
  {
   "cell_type": "code",
   "execution_count": 1,
   "metadata": {},
   "outputs": [],
   "source": [
    "import grid_world as _\n",
    "import gymnasium as gym\n",
    "\n",
    "import numpy as np\n",
    "\n",
    "import random\n",
    "from collections import deque, namedtuple\n",
    "\n",
    "import imageio\n",
    "import matplotlib.pyplot as plt\n",
    "from IPython import display\n",
    "\n",
    "import torch\n",
    "import torch.nn as nn\n",
    "import torch.nn.functional as F\n",
    "import torch.optim as optim\n",
    "\n",
    "from torchvision import transforms"
   ]
  },
  {
   "cell_type": "code",
   "execution_count": 2,
   "metadata": {},
   "outputs": [
    {
     "data": {
      "text/plain": [
       "False"
      ]
     },
     "execution_count": 2,
     "metadata": {},
     "output_type": "execute_result"
    }
   ],
   "source": [
    "# Check if cuda/GPU available\n",
    "torch.cuda.is_available()"
   ]
  },
  {
   "cell_type": "code",
   "execution_count": 3,
   "metadata": {},
   "outputs": [
    {
     "name": "stdout",
     "output_type": "stream",
     "text": [
      "Box(0, 255, (500, 750, 3), uint8)\n"
     ]
    }
   ],
   "source": [
    "# Import the custom gym environment\n",
    "shape = (10,15)\n",
    "env = gym.make('grid_world/GridWorld-v4', shape=shape)\n",
    "print(env.observation_space)\n",
    "observation, info = env.reset()\n",
    "env.close()"
   ]
  },
  {
   "cell_type": "code",
   "execution_count": 4,
   "metadata": {},
   "outputs": [
    {
     "name": "stdout",
     "output_type": "stream",
     "text": [
      "(500, 750, 3)\n",
      "255\n",
      "0\n",
      "{'agent': array([ 8, 13]), 'target': array([2, 3])}\n"
     ]
    },
    {
     "data": {
      "image/png": "[encoded data removed]",
      "text/plain": [
       "<Figure size 640x480 with 1 Axes>"
      ]
     },
     "metadata": {},
     "output_type": "display_data"
    }
   ],
   "source": [
    "print(observation.shape)\n",
    "print(observation.max())\n",
    "print(observation.min())\n",
    "print(info)\n",
    "fig, ax = plt.subplots()\n",
    "ax.axis('off')\n",
    "ax.margins(0.01)\n",
    "ax.imshow(observation)\n",
    "plt.show()"
   ]
  },
  {
   "cell_type": "code",
   "execution_count": 5,
   "metadata": {},
   "outputs": [
    {
     "name": "stdout",
     "output_type": "stream",
     "text": [
      "{'agent': array([0, 3]), 'target': array([3, 2])}\n"
     ]
    }
   ],
   "source": [
    "shape = (5,5)\n",
    "env = gym.make('grid_world/GridWorld-v4', render_mode='human', shape=shape)\n",
    "observation, info = env.reset(grid_seed=2, start_target_seed=42)\n",
    "print(info)\n",
    "# print(observation)"
   ]
  },
  {
   "attachments": {},
   "cell_type": "markdown",
   "metadata": {},
   "source": [
    "## Rendering in human mode"
   ]
  },
  {
   "cell_type": "code",
   "execution_count": 6,
   "metadata": {},
   "outputs": [
    {
     "name": "stdout",
     "output_type": "stream",
     "text": [
      "{'agent': array([4, 3]), 'target': array([2, 1])}\n",
      "{'agent': array([4, 4]), 'target': array([2, 1])}\n",
      "{'agent': array([4, 4]), 'target': array([2, 1])}\n",
      "{'agent': array([3, 4]), 'target': array([2, 1])}\n",
      "{'agent': array([3, 4]), 'target': array([2, 1])}\n",
      "{'agent': array([2, 4]), 'target': array([2, 1])}\n",
      "{'agent': array([1, 4]), 'target': array([2, 1])}\n",
      "{'agent': array([0, 4]), 'target': array([2, 1])}\n",
      "{'agent': array([0, 4]), 'target': array([2, 1])}\n",
      "{'agent': array([1, 4]), 'target': array([2, 1])}\n"
     ]
    }
   ],
   "source": [
    "## Test the environment\n",
    "env = gym.make('grid_world/GridWorld-v4', render_mode='human', shape=shape)\n",
    "observation, info = env.reset()\n",
    "t = 0\n",
    "rng = np.random.default_rng()\n",
    "\n",
    "\n",
    "for i in range(10):\n",
    "      \n",
    "   action = env.action_space.sample()\n",
    "   observation, reward, terminated, truncated, info = env.step(action)\n",
    "   print(info)\n",
    "\n",
    "\n",
    "   if terminated or truncated:\n",
    "      observation, info = env.reset(seed=10)\n",
    "      t += 1\n",
    "\n",
    "env.close()"
   ]
  },
  {
   "attachments": {},
   "cell_type": "markdown",
   "metadata": {},
   "source": [
    "## Rendering in RGB Array Mode (gif)"
   ]
  },
  {
   "cell_type": "code",
   "execution_count": 6,
   "metadata": {},
   "outputs": [],
   "source": [
    "# INSTANTIATE THE ENVIRONMENT\n",
    "env = gym.make('grid_world/GridWorld-v4', render_mode='rgb_array', shape=shape)\n",
    "\n",
    "\n",
    "random_images = []\n",
    "observation, info = env.reset()\n",
    "\n",
    "# SAVE IMAGE OF THE INITIAL STATE\n",
    "random_images.append(env.render())\n",
    "\n",
    "# ITERATE OVER SET NUMBER OF TRANSITIONS\n",
    "for i in range(100):\n",
    "\n",
    "    if i%2 == 0:\n",
    "        action = 0\n",
    "    else:\n",
    "      action = 1\n",
    "\n",
    "    # TAKE A RANDOM ACTION AND OBSERVE THE RESULT\n",
    "    observation, reward, terminated, truncated, info = env.step(action)\n",
    "    random_images.append(env.render())\n",
    "\n",
    "    if terminated or truncated:\n",
    "        observation, info = env.reset()\n",
    "\n",
    "env.close()\n",
    "imageio.mimsave('./gifs/random-net.gif', random_images, duration = 3)  "
   ]
  },
  {
   "cell_type": "code",
   "execution_count": 7,
   "metadata": {},
   "outputs": [],
   "source": [
    "class ResidualBlock(nn.Module):\n",
    "    def __init__(self, in_channels, out_channels, stride = 1):\n",
    "        \n",
    "        super(ResidualBlock, self).__init__()\n",
    "        self.conv1 = nn.Sequential(\n",
    "                        nn.Conv2d(in_channels, out_channels, kernel_size = 3, stride = stride, padding = 1),\n",
    "                        nn.BatchNorm2d(out_channels),\n",
    "                        nn.ReLU()\n",
    "                        )\n",
    "        self.conv2 = nn.Sequential(\n",
    "                        nn.Conv2d(out_channels, out_channels, kernel_size = 3, stride = 1, padding = 1),\n",
    "                        nn.BatchNorm2d(out_channels)\n",
    "                    )\n",
    "        \n",
    "        # If stride is greater than one the image will be down sampled\n",
    "        if stride > 1:\n",
    "            self.downsample = nn.Sequential(\n",
    "                nn.Conv2d(in_channels, out_channels, kernel_size=1, stride=stride),\n",
    "                nn.BatchNorm2d(out_channels)\n",
    "            )\n",
    "        \n",
    "        else:\n",
    "            self.downsample = False\n",
    "\n",
    "        self.relu = nn.ReLU()\n",
    "        \n",
    "    def forward(self, x):\n",
    "\n",
    "        y = self.conv1(x)\n",
    "        y = self.conv2(y)\n",
    "\n",
    "        if self.downsample:\n",
    "            residual = self.downsample(x)\n",
    "        else:\n",
    "            residual = x\n",
    "\n",
    "        y += residual\n",
    "        y = self.relu(y)\n",
    "\n",
    "        return y"
   ]
  },
  {
   "cell_type": "code",
   "execution_count": 8,
   "metadata": {},
   "outputs": [],
   "source": [
    "class ResidualModule(nn.Module):\n",
    "\n",
    "    def __init__(self, in_channels, out_channels, num_blocks, down_sample=True) -> None:\n",
    "        super().__init__()\n",
    "\n",
    "        if down_sample:\n",
    "            blocks = [ResidualBlock(in_channels, out_channels, stride=2)]\n",
    "            \n",
    "        else:\n",
    "            blocks = [ResidualBlock(in_channels, out_channels, stride=1)]\n",
    "\n",
    "        for _ in range(num_blocks-1):\n",
    "            blocks.append(ResidualBlock(out_channels, out_channels))\n",
    "\n",
    "        self.module = nn.Sequential(*blocks)\n",
    "\n",
    "    \n",
    "    def forward(self, x):\n",
    "        return self.module(x)"
   ]
  },
  {
   "cell_type": "code",
   "execution_count": 9,
   "metadata": {},
   "outputs": [],
   "source": [
    "class ResNet18(nn.Module):\n",
    "\n",
    "    def __init__(self) -> None:\n",
    "        super(ResNet18, self).__init__()\n",
    "        self.layers = nn.Sequential(\n",
    "            nn.Conv2d(in_channels=3, out_channels=64, kernel_size=7, stride=2, padding=3),\n",
    "            nn.BatchNorm2d(64),\n",
    "            nn.MaxPool2d(kernel_size = 3, stride = 2, padding = 1),\n",
    "            self._build_res_block(),\n",
    "            nn.AvgPool2d(7, stride=1),\n",
    "            nn.Flatten()\n",
    "        )\n",
    "\n",
    "    def _build_res_block(self):\n",
    "        in_channels = 64\n",
    "        out_channels = 128\n",
    "        modules = [ResidualModule(in_channels, in_channels, num_blocks=2, down_sample=False)]\n",
    "        for _ in range(3):\n",
    "            modules.append(ResidualModule(in_channels, out_channels, num_blocks=2))\n",
    "            in_channels = out_channels\n",
    "            out_channels *= 2\n",
    "\n",
    "        return nn.Sequential(*modules)\n",
    "    \n",
    "    def forward(self, x):\n",
    "\n",
    "        return self.layers(x)"
   ]
  },
  {
   "cell_type": "code",
   "execution_count": 10,
   "metadata": {},
   "outputs": [],
   "source": [
    "class ResNetDQN(nn.Module):\n",
    "\n",
    "    def __init__(self, n_actions):\n",
    "        super(ResNetDQN, self).__init__()\n",
    "        self.encoder = ResNet18()\n",
    "        self.linear = nn.Linear(512, n_actions)\n",
    "\n",
    "    def forward(self, x):\n",
    "        x = self.encoder(x)\n",
    "        x = self.linear(x)\n",
    "        return x"
   ]
  },
  {
   "cell_type": "code",
   "execution_count": 11,
   "metadata": {},
   "outputs": [],
   "source": [
    "Transition = namedtuple(\n",
    "    'Transition',\n",
    "    ('state', 'action', 'next_state', 'reward', 'done')\n",
    "    )\n",
    "\n",
    "\n",
    "class ReplayMemory(object):\n",
    "    \"\"\"\n",
    "    A class to store gym transitions\n",
    "    \"\"\"\n",
    "    def __init__(self, capacity):\n",
    "        self.memory = deque([], maxlen=capacity)\n",
    "\n",
    "    def push(self, *args):\n",
    "        \"\"\"Save a transition\"\"\"\n",
    "        self.memory.append(Transition(*args))\n",
    "\n",
    "    def sample(self, batch_size):\n",
    "        return random.sample(self.memory, batch_size)\n",
    "\n",
    "    def __len__(self):\n",
    "        return len(self.memory)"
   ]
  },
  {
   "cell_type": "code",
   "execution_count": 13,
   "metadata": {},
   "outputs": [],
   "source": [
    "# def concat_observation(state_dictionary):\n",
    "#     arrays = [arr for arr in state_dictionary.values()]\n",
    "#     return np.concatenate(arrays, axis=0)"
   ]
  },
  {
   "cell_type": "code",
   "execution_count": 21,
   "metadata": {},
   "outputs": [
    {
     "name": "stdout",
     "output_type": "stream",
     "text": [
      "Device: cpu\n",
      "Number of Actions: 4\n",
      "Observation Size 500\n"
     ]
    }
   ],
   "source": [
    "# BATCH_SIZE is the number of transitions sampled from the replay buffer\n",
    "# GAMMA is the discount factor as mentioned in the previous section\n",
    "# EPS_START is the starting value of epsilon\n",
    "# EPS_END is the final value of epsilon\n",
    "# EPS_DECAY controls the rate of exponential decay of epsilon, higher means a slower decay\n",
    "# TAU is the update rate of the target network\n",
    "# LR is the learning rate of the AdamW optimizer\n",
    "# HIDDEN is the number of units in the first and second layer\n",
    "# MEMORY is the length of the replay memory\n",
    "# NUM_EPISODES the number of training episodes\n",
    "BATCH_SIZE = 128\n",
    "GAMMA = 0.9\n",
    "EPS_START = 0.9\n",
    "EPS_END = 0.05\n",
    "EPS_DECAY = 10000\n",
    "TAU = 0.005\n",
    "LR = 1e-4\n",
    "MEMORY = 1000\n",
    "NUM_EPISODES = 200\n",
    "SHAPE = (10,10)\n",
    "\n",
    "# Define device used for training\n",
    "device = torch.device('cuda' if torch.cuda.is_available() else 'cpu')\n",
    "print('Device:', device)\n",
    "\n",
    "env = gym.make('grid_world/GridWorld-v4', shape=SHAPE)\n",
    "\n",
    "# Get the number of actions available\n",
    "n_actions = env.action_space.n\n",
    "print('Number of Actions:', n_actions)\n",
    "\n",
    "# RESET THE ENVIRONMENT\n",
    "observation, info = env.reset()\n",
    "\n",
    "# GET THE NUMBER OF FEATURES IN A STATE\n",
    "n_observations = observation.shape[0]\n",
    "print('Observation Size', n_observations)\n",
    "\n",
    "# DEFINE THE POLICY AND TARGET NET AS INSTANCES OF THE DQN MODEL\n",
    "policy_net = ResNetDQN(n_actions).to(device)\n",
    "target_net = ResNetDQN(n_actions).to(device)\n",
    "\n",
    "# SYNC THE WEIGHTS OF THE TARGET AND POLICY NETS\n",
    "target_net.load_state_dict(policy_net.state_dict())\n",
    "\n",
    "# DEFINE THE OPTIMIZER\n",
    "optimizer = optim.AdamW(policy_net.parameters(), lr=LR, amsgrad=True)\n",
    "\n",
    "# DEFINE THE REPLAY MEMORY \n",
    "memory = ReplayMemory(MEMORY)\n",
    "\n",
    "steps_done = 0"
   ]
  },
  {
   "cell_type": "code",
   "execution_count": 22,
   "metadata": {},
   "outputs": [],
   "source": [
    "def eps_decay(steps_done):\n",
    "    eps_threshold = EPS_END + (EPS_START - EPS_END) * np.exp(-1. * steps_done / EPS_DECAY)\n",
    "    return eps_threshold"
   ]
  },
  {
   "cell_type": "code",
   "execution_count": 23,
   "metadata": {},
   "outputs": [
    {
     "name": "stdout",
     "output_type": "stream",
     "text": [
      "Raw Observation Shape: (500, 500, 3)\n",
      "Tensor Shape: torch.Size([3, 224, 224])\n"
     ]
    },
    {
     "data": {
      "image/png": "[encoded data removed]",
      "text/plain": [
       "<Figure size 1200x600 with 2 Axes>"
      ]
     },
     "metadata": {},
     "output_type": "display_data"
    }
   ],
   "source": [
    "# Transforms the environment images into the format required by ResNet\n",
    "transformer = transforms.Compose(\n",
    "    [   \n",
    "        transforms.ToPILImage(),\n",
    "        transforms.Resize(224),\n",
    "        transforms.ToTensor(),\n",
    "        # transforms.Normalize(\n",
    "        #     mean=[0.4914, 0.4822, 0.4465],\n",
    "        #     std=[0.2023, 0.1994, 0.2010],\n",
    "        # )\n",
    "    ]\n",
    ")\n",
    "\n",
    "to_image = transforms.ToPILImage()\n",
    "\n",
    "# Test transformer\n",
    "observation, info = env.reset()\n",
    "print('Raw Observation Shape:', observation.shape)\n",
    "tensor = transformer(observation)\n",
    "print('Tensor Shape:', tensor.shape)\n",
    "\n",
    "# Back to image\n",
    "image = to_image(tensor)\n",
    "\n",
    "fig, ax = plt.subplots(ncols=2, figsize=(12,6))\n",
    "ax[0].imshow(observation)\n",
    "ax[1].imshow(image)\n",
    "plt.show()"
   ]
  },
  {
   "cell_type": "code",
   "execution_count": 24,
   "metadata": {},
   "outputs": [
    {
     "data": {
      "text/plain": [
       "array([[[1, 2],\n",
       "        [3, 4]]])"
      ]
     },
     "execution_count": 24,
     "metadata": {},
     "output_type": "execute_result"
    }
   ],
   "source": [
    "arr = np.array([[1,2], [3,4]])\n",
    "arr\n",
    "np.expand_dims(arr, axis=0)"
   ]
  },
  {
   "cell_type": "code",
   "execution_count": 25,
   "metadata": {},
   "outputs": [
    {
     "name": "stdout",
     "output_type": "stream",
     "text": [
      "Observation shape: (500, 500, 3)\n",
      "Tensor Shape: torch.Size([3, 224, 224])\n",
      "Batch Shape: torch.Size([1, 3, 224, 224])\n",
      "The policy net predictions:\n",
      "\n",
      "tensor([[ 0.3091,  1.4206,  0.2168, -0.0179]]) \n",
      "\n",
      "tensor([[1]]) \n",
      "\n",
      "Using the select action function: \n",
      "\n",
      "tensor([[1]])\n"
     ]
    }
   ],
   "source": [
    "def select_action(state, eps):\n",
    "\n",
    "    threshold = random.random()\n",
    "\n",
    "    if threshold > eps:\n",
    "        with torch.no_grad():\n",
    "            # t.max(1) will return the largest column value of each row.\n",
    "            # second column on max result is index of where max element was\n",
    "            # found, so we pick action with the larger expected reward.\n",
    "            return policy_net(state).max(1)[1].view(1, 1)\n",
    "    else:\n",
    "        return torch.tensor([[env.action_space.sample()]], device=device, dtype=torch.long)\n",
    "\n",
    "\n",
    "# Test the select action function\n",
    "observation, info = env.reset()\n",
    "print('Observation shape:', observation.shape)\n",
    "# state_tensor = transformer(np.expand_dims(observation, axis=0)).to(device)\n",
    "tensor = transformer(observation)\n",
    "print('Tensor Shape:', tensor.shape)\n",
    "batch = torch.unsqueeze(tensor, dim=0).to(device)\n",
    "print('Batch Shape:', batch.shape)\n",
    "\n",
    "print('The policy net predictions:\\n')\n",
    "with torch.no_grad():\n",
    "    print(policy_net(batch), '\\n')\n",
    "    print(policy_net(batch).max(1)[1].view(1, 1), '\\n')\n",
    "print('Using the select action function:', '\\n')\n",
    "action = select_action(batch, eps=0)\n",
    "print(action)"
   ]
  },
  {
   "cell_type": "code",
   "execution_count": 26,
   "metadata": {},
   "outputs": [],
   "source": [
    "def optimize_model():\n",
    "\n",
    "    # CHECK THE LENGTH OF THE REPLAY MEMORY, RETURN NONE IF LENGTH LESS THAN\n",
    "    # THE BATCH_SIZE\n",
    "    if len(memory) < BATCH_SIZE:\n",
    "        return\n",
    "    \n",
    "    # SAMPLE A TRANSITION FROM THE REPLAY MEMORY\n",
    "    transitions = memory.sample(BATCH_SIZE)\n",
    "\n",
    "    # DEFINE THE BATCH AS TRANSITION NAMED TUPLE, THIS SPLITS state's, \n",
    "    # action's, next_state's, and reward's into tuples see the following link\n",
    "    # https://stackoverflow.com/a/19343/3343043\n",
    "    batch = Transition(*zip(*transitions))\n",
    "\n",
    "    # FIND THE INDICES OF TRANSITIONS THAT ARE NON-TERMINAL STATES\n",
    "    non_final_mask = torch.tensor(\n",
    "        tuple(map(lambda s: s is not None, batch.next_state)), \n",
    "        device=device, \n",
    "        dtype=torch.bool\n",
    "        )\n",
    "    \n",
    "    # FIND THAT STATES THAT ARE NON-TERMINAL STATES\n",
    "    non_final_next_states = torch.cat(\n",
    "        [s for s in batch.next_state if s is not None]\n",
    "        )\n",
    "    \n",
    "    ### CREATE 3 TENSORS ONE FOR THE STATES, ACTIONS AND REWARDS\n",
    "    # COMBINE THE STATE SAMPLES INTO SINGLE TENSOR WITH torch.cat()\n",
    "    state_batch = torch.cat(batch.state)\n",
    "    # COMBINE THE ACTION SAMPLES INTO SINGLE TENSOR WITH torch.cat()\n",
    "    action_batch = torch.cat(batch.action)\n",
    "    # COMBINE THE REWARD SAMPLES INTO SINGLE TENSOR WITH torch.cat()\n",
    "    reward_batch = torch.cat(batch.reward)\n",
    "\n",
    "    # GET THE ACTION VALUES OF POLICY NET FOR EACH ACTION WHICH WAS TAKEN\n",
    "    # HERE YOU SHOULD USE tensor.gather() METHOD SO YOU CAN SPECIFY WHICH \n",
    "    # ACTION WE ARE INTERESTED IN. WE ONLY WANT THE ACTION WHICH WAS TAKEN\n",
    "    # FOR THE TRANSACTION\n",
    "    state_action_values = policy_net(state_batch).gather(1, action_batch)\n",
    "\n",
    "    # CREATE TENSOR OF ZEROS TO STORE THE NEXT STATE VALUES\n",
    "    next_state_values = torch.zeros(BATCH_SIZE, device=device)\n",
    "    \n",
    "    # DO NOT CALCULATE GRADIENTS\n",
    "    with torch.no_grad():\n",
    "\n",
    "        # DEFINE THE NEXT STATE Q VALUES USING THE TARGET NET - max(Q_target(s', a'))\n",
    "        next_state_values[non_final_mask] = target_net(non_final_next_states).max(1)[0]\n",
    "        \n",
    "    # COMPUTE EXPECTED RETURN Y = Discount*max(Q_target(s',a)) + Reward \n",
    "    expected_state_action_values = (next_state_values * GAMMA) + reward_batch\n",
    "\n",
    "    # DEFINE THE HUBER LOSS\n",
    "    criterion = nn.SmoothL1Loss()\n",
    "\n",
    "    # CALCULATE THE LOSS L(Q_policy(s,a), Y)\n",
    "    loss = criterion(state_action_values, expected_state_action_values.unsqueeze(1))\n",
    "\n",
    "    # ZERO THE GRADIENTS\n",
    "    optimizer.zero_grad()\n",
    "\n",
    "    # PROPAGATE GRADIENT THROUGH NETWORK \n",
    "    loss.backward()\n",
    "\n",
    "    # IN PLACE GRADIENT CLIPPING\n",
    "    torch.nn.utils.clip_grad_value_(policy_net.parameters(), 100)\n",
    "\n",
    "    # TAKE AN OPTIMIZER STEP W = W - LR*GRADIENT\n",
    "    optimizer.step()\n",
    "\n",
    "    return loss\n"
   ]
  },
  {
   "cell_type": "code",
   "execution_count": 27,
   "metadata": {},
   "outputs": [
    {
     "data": {
      "text/plain": [
       "array([[1, 2, 3],\n",
       "       [0, 0, 0],\n",
       "       [7, 8, 9]])"
      ]
     },
     "execution_count": 27,
     "metadata": {},
     "output_type": "execute_result"
    }
   ],
   "source": [
    "a = np.array([[1,2,3], [4,5,6], [7,8,9]])\n",
    "b = np.array([[1], [0], [1]])\n",
    "a*b"
   ]
  },
  {
   "cell_type": "code",
   "execution_count": 28,
   "metadata": {},
   "outputs": [],
   "source": [
    "def plot_training(rewards, loss, eps, avg_rewards=None, nfns_ratio=None, done=False):\n",
    "    fig = plt.figure(1, figsize=(18, 12))\n",
    "\n",
    "    if done:\n",
    "        plt.clf()\n",
    "\n",
    "    else:\n",
    "        plt.clf()\n",
    "\n",
    "    # plt.subplots(ncols=2, figsize=(12,6))\n",
    "    ax1 = fig.add_subplot(2, 3, 1)\n",
    "    ax2 = fig.add_subplot(2, 3, 2)\n",
    "    ax3 = fig.add_subplot(2, 3, 3)\n",
    "    ax4 = fig.add_subplot(2, 3, 4)\n",
    "\n",
    "    ax1.set_xlabel('Episode')\n",
    "    ax1.set_ylabel('Reward')\n",
    "    ax1.plot(rewards)\n",
    "\n",
    "    if avg_rewards:\n",
    "        ax1.plot(avg_rewards)\n",
    "\n",
    "    ax2.set_xlabel('Batch')\n",
    "    ax2.set_ylabel('Loss')\n",
    "    ax2.plot(loss)\n",
    "    \n",
    "    ax3.set_xlabel('Action')\n",
    "    ax3.set_ylabel('Epsilon')\n",
    "    ax3.plot(eps)\n",
    "    \n",
    "    ax4.set_xlabel('Batch')\n",
    "    ax4.set_ylabel(\"Non-Final S' Ratio\")\n",
    "    ax4.plot(nfns_ratio)\n",
    "\n",
    "    # plt.pause(0.001)\n",
    "    \n",
    "    if not done:\n",
    "        display.display(plt.gcf())\n",
    "        display.clear_output(wait=True)\n",
    "    \n",
    "    else:\n",
    "        display.display(plt.gcf())"
   ]
  },
  {
   "cell_type": "code",
   "execution_count": 29,
   "metadata": {},
   "outputs": [],
   "source": [
    "episode_rewards = []\n",
    "avg_rewards = []\n",
    "max_reward = 0\n",
    "max_avg_reward = 0\n",
    "\n",
    "optim_steps = 0\n",
    "eps_values = []\n",
    "max_reward = 0\n",
    "max_avg_reward = 0\n",
    "nfns_ratio = []\n",
    "\n",
    "training_loss = []\n",
    "\n",
    "total_transitions = 0"
   ]
  },
  {
   "cell_type": "code",
   "execution_count": 30,
   "metadata": {},
   "outputs": [
    {
     "name": "stdout",
     "output_type": "stream",
     "text": [
      "Complete\n"
     ]
    },
    {
     "data": {
      "image/png": "[encoded data removed]",
      "text/plain": [
       "<Figure size 1800x1200 with 4 Axes>"
      ]
     },
     "metadata": {},
     "output_type": "display_data"
    }
   ],
   "source": [
    "# start = time()\n",
    "env = gym.make('grid_world/GridWorld-v4', shape=SHAPE)\n",
    "# env = gym.make(\"LunarLander-v2\")\n",
    "lr = LR\n",
    "NUM_EPISODES = 5000\n",
    "total_truncated = 0\n",
    "grid_seed = 42\n",
    "start_target_seed = None\n",
    "\n",
    "for e in range(NUM_EPISODES):\n",
    "    observation, info = env.reset(grid_seed=grid_seed, start_target_seed=start_target_seed)\n",
    "    # state = torch.tensor(observation, dtype=torch.float32, device=device).unsqueeze(0)\n",
    "    state = transformer(observation).unsqueeze(0).to(device)\n",
    "    \n",
    "    done = 0\n",
    "    episode_reward = 0\n",
    "    \n",
    "    while not done:\n",
    "        total_transitions += 1\n",
    "        eps = eps_decay(total_transitions)\n",
    "        # action, eps = selector.select(state.reshape(1,-1))\n",
    "        eps_values.append(eps)\n",
    "\n",
    "        action = select_action(state, eps)\n",
    "\n",
    "        observation, reward, terminated, truncated, _ = env.step(action.item())\n",
    "        episode_reward += reward\n",
    "        reward = torch.tensor([reward], device=device)\n",
    "        done = terminated or truncated\n",
    "        if truncated:\n",
    "            total_truncated += 1\n",
    "\n",
    "        if terminated:\n",
    "            next_state = None\n",
    "        \n",
    "        else:\n",
    "            next_state = transformer(observation).unsqueeze(0).to(device)\n",
    "\n",
    "        memory.push(state, action, next_state, reward, done)\n",
    "        state = next_state\n",
    "\n",
    "        # batch_loss, non_final_next_state_ratio = optimize_model([q_optimizer, t_optimizer], method='vanilla')\n",
    "        # nfns_ratio.append(non_final_next_state_ratio)\n",
    "\n",
    "        loss = optimize_model()\n",
    "\n",
    "        if loss is not None:\n",
    "            training_loss.append(loss.item())\n",
    "\n",
    "\n",
    "        # Get the network weights\n",
    "        # q_weights = [node.value.copy() for node in q_network.parameters()]\n",
    "        # t_weights = [node.value.copy() for node in t_network.parameters()]\n",
    "\n",
    "        # GET THE CURRENT WEIGHTS OF EACH NETWORK\n",
    "        target_net_state_dict = target_net.state_dict()\n",
    "        policy_net_state_dict = policy_net.state_dict()\n",
    "\n",
    "        # CALCULATE SOFT UPDATE OF TARGET NET WEIGHTS\n",
    "        # θ′ ← τ θ + (1 −τ )θ′\n",
    "        for key in policy_net_state_dict:\n",
    "            target_net_state_dict[key] = policy_net_state_dict[key]*TAU + target_net_state_dict[key]*(1-TAU)\n",
    "\n",
    "        # APPLY THE UPDATE TO THE TARGET NETWORK\n",
    "        target_net.load_state_dict(target_net_state_dict)\n",
    "    \n",
    "        # if batch_loss is not None:\n",
    "        #     optim_steps += 1\n",
    "        #     batch_losses.append(batch_loss)\n",
    "            \n",
    "        #     # Get the network weights\n",
    "        #     q_weights = [node.value.copy() for node in q_network.parameters()]\n",
    "        #     t_weights = [node.value.copy() for node in t_network.parameters()]\n",
    "\n",
    "        #     # Soft update of the target network's weights\n",
    "        #     # θ′ ← τ θ + (1 − τ)θ′\n",
    "        #     for i in range(len(q_weights)):\n",
    "        #         t_weights[i] = q_weights[i]*TAU + t_weights[i]*(1-TAU)\n",
    "\n",
    "        #     t_network.load_parameters(t_weights)\n",
    "\n",
    "        # if optim_steps%10000 == 0:\n",
    "        #     # Get the network weights\n",
    "        #     q_weights = [node.value.copy() for node in q_network.parameters()]\n",
    "        #     t_network.load_parameters(q_weights)\n",
    "\n",
    "\n",
    "        if done:\n",
    "            episode_rewards.append(episode_reward)\n",
    "            avg_rewards.append(np.average(episode_rewards[-100:]))\n",
    "\n",
    "            # if episode_reward > max_reward:\n",
    "            #     max_reward = episode_reward\n",
    "            #     for i, w in enumerate(q_weights):\n",
    "            #         layer = 'layer{}'.format(i)\n",
    "            #         np.save('./weights/{}.npy'.format(layer), w)\n",
    "\n",
    "            plot_training(episode_rewards, training_loss, eps_values, avg_rewards, nfns_ratio)\n",
    "\n",
    "print('Complete')\n",
    "# end = time()\n",
    "# plot_training(episode_rewards, show_result=True)\n",
    "plt.ioff()\n",
    "plt.show()"
   ]
  },
  {
   "cell_type": "code",
   "execution_count": 33,
   "metadata": {},
   "outputs": [],
   "source": [
    "torch.save(policy_net.state_dict(),'./model_weights/res_net_agent.pt')"
   ]
  },
  {
   "cell_type": "code",
   "execution_count": 32,
   "metadata": {},
   "outputs": [],
   "source": [
    "env.close()"
   ]
  },
  {
   "cell_type": "markdown",
   "metadata": {},
   "source": [
    "### Test Agent with Human-Rendering"
   ]
  },
  {
   "cell_type": "code",
   "execution_count": 34,
   "metadata": {},
   "outputs": [
    {
     "name": "stdout",
     "output_type": "stream",
     "text": [
      "{'agent': array([2, 6]), 'target': array([3, 6])}\n",
      "[100, 94.60741382837296]\n"
     ]
    }
   ],
   "source": [
    "env = gym.make('grid_world/GridWorld-v4', render_mode='human', shape=SHAPE)\n",
    "\n",
    "# Initial observation and state\n",
    "# observation, info = env.reset(grid_seed=grid_seed, start_target_seed=start_target_seed)\n",
    "observation, info = env.reset()\n",
    "# state = torch.tensor(observation, dtype=torch.float32, device=device).unsqueeze(0)\n",
    "state = transformer(observation).unsqueeze(0).to(device)\n",
    "test_episode_rewards = []\n",
    "G = 0\n",
    "print(info)\n",
    "# sleep(3)\n",
    "\n",
    "for i in range(20):\n",
    "\n",
    "    action = policy_net(state).max(1)[1].item() # Learned policy\n",
    "    observation, reward, terminated, truncated, info = env.step(action)\n",
    "    state = transformer(observation).unsqueeze(0).to(device)\n",
    "    # print(info)\n",
    "    G += reward\n",
    "    # sleep(3)\n",
    "\n",
    "    if terminated or truncated:\n",
    "        observation, info = env.reset(grid_seed=grid_seed, start_target_seed=start_target_seed)\n",
    "        test_episode_rewards.append(G)\n",
    "        G = 0\n",
    "        # print(info)\n",
    "        # sleep(3)\n",
    "\n",
    "    else:\n",
    "        G += reward\n",
    "\n",
    "env.close()\n",
    "print(test_episode_rewards)"
   ]
  },
  {
   "cell_type": "markdown",
   "metadata": {},
   "source": [
    "### Test agent with no Rendering"
   ]
  },
  {
   "cell_type": "code",
   "execution_count": 35,
   "metadata": {},
   "outputs": [
    {
     "name": "stdout",
     "output_type": "stream",
     "text": [
      "{'agent': array([0, 0]), 'target': array([8, 2])}\n",
      "[94.96325150132179]\n"
     ]
    }
   ],
   "source": [
    "env = gym.make('grid_world/GridWorld-v4', shape=SHAPE)\n",
    "\n",
    "# Initial observation and state\n",
    "# observation, info = env.reset(grid_seed=grid_seed, start_target_seed=start_target_seed)\n",
    "observation, info = env.reset()\n",
    "# state = torch.tensor(observation, dtype=torch.float32, device=device).unsqueeze(0)\n",
    "state = transformer(observation).unsqueeze(0).to(device)\n",
    "test_episode_rewards = []\n",
    "G = 0\n",
    "print(info)\n",
    "# sleep(3)\n",
    "\n",
    "for i in range(20):\n",
    "\n",
    "    action = policy_net(state).max(1)[1].item() # Learned policy\n",
    "    observation, reward, terminated, truncated, info = env.step(action)\n",
    "    state = transformer(observation).unsqueeze(0).to(device)\n",
    "    # print(info)\n",
    "    G += reward\n",
    "    # sleep(3)\n",
    "\n",
    "    if terminated or truncated:\n",
    "        observation, info = env.reset(grid_seed=grid_seed, start_target_seed=start_target_seed)\n",
    "        test_episode_rewards.append(G)\n",
    "        G = 0\n",
    "        # print(info)\n",
    "        # sleep(3)\n",
    "\n",
    "    else:\n",
    "        G += reward\n",
    "\n",
    "env.close()\n",
    "print(test_episode_rewards)"
   ]
  },
  {
   "cell_type": "markdown",
   "metadata": {},
   "source": [
    "### Test Agent in RGB-Array Mode"
   ]
  },
  {
   "cell_type": "code",
   "execution_count": 56,
   "metadata": {},
   "outputs": [
    {
     "name": "stdout",
     "output_type": "stream",
     "text": [
      "{'agent': array([16, 17]), 'target': array([14,  7])}\n",
      "[]\n"
     ]
    }
   ],
   "source": [
    "shape = (20,20)\n",
    "env = gym.make('grid_world/GridWorld-v4', render_mode='rgb_array', shape=shape)\n",
    "\n",
    "# Initial observation and state\n",
    "# observation, info = env.reset(grid_seed=grid_seed, start_target_seed=start_target_seed)\n",
    "observation, info = env.reset()\n",
    "# state = torch.tensor(observation, dtype=torch.float32, device=device).unsqueeze(0)\n",
    "state = transformer(observation).unsqueeze(0).to(device)\n",
    "test_episode_rewards = []\n",
    "G = 0\n",
    "print(info)\n",
    "images = []\n",
    "images.append(env.render())\n",
    "# sleep(3)\n",
    "\n",
    "for i in range(200):\n",
    "\n",
    "    action = policy_net(state).max(1)[1].item() # Learned policy\n",
    "    observation, reward, terminated, truncated, info = env.step(action)\n",
    "    state = transformer(observation).unsqueeze(0).to(device)\n",
    "    images.append(env.render())\n",
    "    # print(info)\n",
    "    G += reward\n",
    "    # sleep(3)\n",
    "\n",
    "    if terminated or truncated:\n",
    "        observation, info = env.reset(grid_seed=None, start_target_seed=None)\n",
    "        test_episode_rewards.append(G)\n",
    "        G = 0\n",
    "        # print(info)\n",
    "        # sleep(3)\n",
    "\n",
    "    else:\n",
    "        G += reward\n",
    "\n",
    "env.close()\n",
    "print(test_episode_rewards)\n",
    "imageio.mimsave('./gifs/{}-{}.gif'.format(shape[0], shape[1]), images, duration = 2)  "
   ]
  },
  {
   "cell_type": "code",
   "execution_count": 36,
   "metadata": {},
   "outputs": [
    {
     "ename": "RuntimeError",
     "evalue": "Given groups=1, weight of size [64, 3, 7, 7], expected input[1, 500, 500, 3] to have 3 channels, but got 500 channels instead",
     "output_type": "error",
     "traceback": [
      "\u001b[0;31m---------------------------------------------------------------------------\u001b[0m",
      "\u001b[0;31mRuntimeError\u001b[0m                              Traceback (most recent call last)",
      "Cell \u001b[0;32mIn[36], line 11\u001b[0m\n\u001b[1;32m      8\u001b[0m images\u001b[39m.\u001b[39mappend(env\u001b[39m.\u001b[39mrender())\n\u001b[1;32m     10\u001b[0m \u001b[39mfor\u001b[39;00m _ \u001b[39min\u001b[39;00m \u001b[39mrange\u001b[39m(\u001b[39m100\u001b[39m):\n\u001b[0;32m---> 11\u001b[0m     action \u001b[39m=\u001b[39m policy_net(state)\u001b[39m.\u001b[39mmax(\u001b[39m1\u001b[39m)[\u001b[39m1\u001b[39m]\u001b[39m.\u001b[39mitem() \u001b[39m# Learned policy\u001b[39;00m\n\u001b[1;32m     12\u001b[0m     observation, reward, terminated, truncated, info \u001b[39m=\u001b[39m env\u001b[39m.\u001b[39mstep(action)\n\u001b[1;32m     13\u001b[0m     state \u001b[39m=\u001b[39m torch\u001b[39m.\u001b[39mtensor(observation, dtype\u001b[39m=\u001b[39mtorch\u001b[39m.\u001b[39mfloat32, device\u001b[39m=\u001b[39mdevice)\u001b[39m.\u001b[39munsqueeze(\u001b[39m0\u001b[39m)\n",
      "File \u001b[0;32m~/miniconda3/envs/gym/lib/python3.11/site-packages/torch/nn/modules/module.py:1501\u001b[0m, in \u001b[0;36mModule._call_impl\u001b[0;34m(self, *args, **kwargs)\u001b[0m\n\u001b[1;32m   1496\u001b[0m \u001b[39m# If we don't have any hooks, we want to skip the rest of the logic in\u001b[39;00m\n\u001b[1;32m   1497\u001b[0m \u001b[39m# this function, and just call forward.\u001b[39;00m\n\u001b[1;32m   1498\u001b[0m \u001b[39mif\u001b[39;00m \u001b[39mnot\u001b[39;00m (\u001b[39mself\u001b[39m\u001b[39m.\u001b[39m_backward_hooks \u001b[39mor\u001b[39;00m \u001b[39mself\u001b[39m\u001b[39m.\u001b[39m_backward_pre_hooks \u001b[39mor\u001b[39;00m \u001b[39mself\u001b[39m\u001b[39m.\u001b[39m_forward_hooks \u001b[39mor\u001b[39;00m \u001b[39mself\u001b[39m\u001b[39m.\u001b[39m_forward_pre_hooks\n\u001b[1;32m   1499\u001b[0m         \u001b[39mor\u001b[39;00m _global_backward_pre_hooks \u001b[39mor\u001b[39;00m _global_backward_hooks\n\u001b[1;32m   1500\u001b[0m         \u001b[39mor\u001b[39;00m _global_forward_hooks \u001b[39mor\u001b[39;00m _global_forward_pre_hooks):\n\u001b[0;32m-> 1501\u001b[0m     \u001b[39mreturn\u001b[39;00m forward_call(\u001b[39m*\u001b[39margs, \u001b[39m*\u001b[39m\u001b[39m*\u001b[39mkwargs)\n\u001b[1;32m   1502\u001b[0m \u001b[39m# Do not call functions when jit is used\u001b[39;00m\n\u001b[1;32m   1503\u001b[0m full_backward_hooks, non_full_backward_hooks \u001b[39m=\u001b[39m [], []\n",
      "Cell \u001b[0;32mIn[10], line 9\u001b[0m, in \u001b[0;36mResNetDQN.forward\u001b[0;34m(self, x)\u001b[0m\n\u001b[1;32m      8\u001b[0m \u001b[39mdef\u001b[39;00m \u001b[39mforward\u001b[39m(\u001b[39mself\u001b[39m, x):\n\u001b[0;32m----> 9\u001b[0m     x \u001b[39m=\u001b[39m \u001b[39mself\u001b[39m\u001b[39m.\u001b[39mencoder(x)\n\u001b[1;32m     10\u001b[0m     x \u001b[39m=\u001b[39m \u001b[39mself\u001b[39m\u001b[39m.\u001b[39mlinear(x)\n\u001b[1;32m     11\u001b[0m     \u001b[39mreturn\u001b[39;00m x\n",
      "File \u001b[0;32m~/miniconda3/envs/gym/lib/python3.11/site-packages/torch/nn/modules/module.py:1501\u001b[0m, in \u001b[0;36mModule._call_impl\u001b[0;34m(self, *args, **kwargs)\u001b[0m\n\u001b[1;32m   1496\u001b[0m \u001b[39m# If we don't have any hooks, we want to skip the rest of the logic in\u001b[39;00m\n\u001b[1;32m   1497\u001b[0m \u001b[39m# this function, and just call forward.\u001b[39;00m\n\u001b[1;32m   1498\u001b[0m \u001b[39mif\u001b[39;00m \u001b[39mnot\u001b[39;00m (\u001b[39mself\u001b[39m\u001b[39m.\u001b[39m_backward_hooks \u001b[39mor\u001b[39;00m \u001b[39mself\u001b[39m\u001b[39m.\u001b[39m_backward_pre_hooks \u001b[39mor\u001b[39;00m \u001b[39mself\u001b[39m\u001b[39m.\u001b[39m_forward_hooks \u001b[39mor\u001b[39;00m \u001b[39mself\u001b[39m\u001b[39m.\u001b[39m_forward_pre_hooks\n\u001b[1;32m   1499\u001b[0m         \u001b[39mor\u001b[39;00m _global_backward_pre_hooks \u001b[39mor\u001b[39;00m _global_backward_hooks\n\u001b[1;32m   1500\u001b[0m         \u001b[39mor\u001b[39;00m _global_forward_hooks \u001b[39mor\u001b[39;00m _global_forward_pre_hooks):\n\u001b[0;32m-> 1501\u001b[0m     \u001b[39mreturn\u001b[39;00m forward_call(\u001b[39m*\u001b[39margs, \u001b[39m*\u001b[39m\u001b[39m*\u001b[39mkwargs)\n\u001b[1;32m   1502\u001b[0m \u001b[39m# Do not call functions when jit is used\u001b[39;00m\n\u001b[1;32m   1503\u001b[0m full_backward_hooks, non_full_backward_hooks \u001b[39m=\u001b[39m [], []\n",
      "Cell \u001b[0;32mIn[9], line 27\u001b[0m, in \u001b[0;36mResNet18.forward\u001b[0;34m(self, x)\u001b[0m\n\u001b[1;32m     25\u001b[0m \u001b[39mdef\u001b[39;00m \u001b[39mforward\u001b[39m(\u001b[39mself\u001b[39m, x):\n\u001b[0;32m---> 27\u001b[0m     \u001b[39mreturn\u001b[39;00m \u001b[39mself\u001b[39m\u001b[39m.\u001b[39mlayers(x)\n",
      "File \u001b[0;32m~/miniconda3/envs/gym/lib/python3.11/site-packages/torch/nn/modules/module.py:1501\u001b[0m, in \u001b[0;36mModule._call_impl\u001b[0;34m(self, *args, **kwargs)\u001b[0m\n\u001b[1;32m   1496\u001b[0m \u001b[39m# If we don't have any hooks, we want to skip the rest of the logic in\u001b[39;00m\n\u001b[1;32m   1497\u001b[0m \u001b[39m# this function, and just call forward.\u001b[39;00m\n\u001b[1;32m   1498\u001b[0m \u001b[39mif\u001b[39;00m \u001b[39mnot\u001b[39;00m (\u001b[39mself\u001b[39m\u001b[39m.\u001b[39m_backward_hooks \u001b[39mor\u001b[39;00m \u001b[39mself\u001b[39m\u001b[39m.\u001b[39m_backward_pre_hooks \u001b[39mor\u001b[39;00m \u001b[39mself\u001b[39m\u001b[39m.\u001b[39m_forward_hooks \u001b[39mor\u001b[39;00m \u001b[39mself\u001b[39m\u001b[39m.\u001b[39m_forward_pre_hooks\n\u001b[1;32m   1499\u001b[0m         \u001b[39mor\u001b[39;00m _global_backward_pre_hooks \u001b[39mor\u001b[39;00m _global_backward_hooks\n\u001b[1;32m   1500\u001b[0m         \u001b[39mor\u001b[39;00m _global_forward_hooks \u001b[39mor\u001b[39;00m _global_forward_pre_hooks):\n\u001b[0;32m-> 1501\u001b[0m     \u001b[39mreturn\u001b[39;00m forward_call(\u001b[39m*\u001b[39margs, \u001b[39m*\u001b[39m\u001b[39m*\u001b[39mkwargs)\n\u001b[1;32m   1502\u001b[0m \u001b[39m# Do not call functions when jit is used\u001b[39;00m\n\u001b[1;32m   1503\u001b[0m full_backward_hooks, non_full_backward_hooks \u001b[39m=\u001b[39m [], []\n",
      "File \u001b[0;32m~/miniconda3/envs/gym/lib/python3.11/site-packages/torch/nn/modules/container.py:217\u001b[0m, in \u001b[0;36mSequential.forward\u001b[0;34m(self, input)\u001b[0m\n\u001b[1;32m    215\u001b[0m \u001b[39mdef\u001b[39;00m \u001b[39mforward\u001b[39m(\u001b[39mself\u001b[39m, \u001b[39minput\u001b[39m):\n\u001b[1;32m    216\u001b[0m     \u001b[39mfor\u001b[39;00m module \u001b[39min\u001b[39;00m \u001b[39mself\u001b[39m:\n\u001b[0;32m--> 217\u001b[0m         \u001b[39minput\u001b[39m \u001b[39m=\u001b[39m module(\u001b[39minput\u001b[39m)\n\u001b[1;32m    218\u001b[0m     \u001b[39mreturn\u001b[39;00m \u001b[39minput\u001b[39m\n",
      "File \u001b[0;32m~/miniconda3/envs/gym/lib/python3.11/site-packages/torch/nn/modules/module.py:1501\u001b[0m, in \u001b[0;36mModule._call_impl\u001b[0;34m(self, *args, **kwargs)\u001b[0m\n\u001b[1;32m   1496\u001b[0m \u001b[39m# If we don't have any hooks, we want to skip the rest of the logic in\u001b[39;00m\n\u001b[1;32m   1497\u001b[0m \u001b[39m# this function, and just call forward.\u001b[39;00m\n\u001b[1;32m   1498\u001b[0m \u001b[39mif\u001b[39;00m \u001b[39mnot\u001b[39;00m (\u001b[39mself\u001b[39m\u001b[39m.\u001b[39m_backward_hooks \u001b[39mor\u001b[39;00m \u001b[39mself\u001b[39m\u001b[39m.\u001b[39m_backward_pre_hooks \u001b[39mor\u001b[39;00m \u001b[39mself\u001b[39m\u001b[39m.\u001b[39m_forward_hooks \u001b[39mor\u001b[39;00m \u001b[39mself\u001b[39m\u001b[39m.\u001b[39m_forward_pre_hooks\n\u001b[1;32m   1499\u001b[0m         \u001b[39mor\u001b[39;00m _global_backward_pre_hooks \u001b[39mor\u001b[39;00m _global_backward_hooks\n\u001b[1;32m   1500\u001b[0m         \u001b[39mor\u001b[39;00m _global_forward_hooks \u001b[39mor\u001b[39;00m _global_forward_pre_hooks):\n\u001b[0;32m-> 1501\u001b[0m     \u001b[39mreturn\u001b[39;00m forward_call(\u001b[39m*\u001b[39margs, \u001b[39m*\u001b[39m\u001b[39m*\u001b[39mkwargs)\n\u001b[1;32m   1502\u001b[0m \u001b[39m# Do not call functions when jit is used\u001b[39;00m\n\u001b[1;32m   1503\u001b[0m full_backward_hooks, non_full_backward_hooks \u001b[39m=\u001b[39m [], []\n",
      "File \u001b[0;32m~/miniconda3/envs/gym/lib/python3.11/site-packages/torch/nn/modules/conv.py:463\u001b[0m, in \u001b[0;36mConv2d.forward\u001b[0;34m(self, input)\u001b[0m\n\u001b[1;32m    462\u001b[0m \u001b[39mdef\u001b[39;00m \u001b[39mforward\u001b[39m(\u001b[39mself\u001b[39m, \u001b[39minput\u001b[39m: Tensor) \u001b[39m-\u001b[39m\u001b[39m>\u001b[39m Tensor:\n\u001b[0;32m--> 463\u001b[0m     \u001b[39mreturn\u001b[39;00m \u001b[39mself\u001b[39m\u001b[39m.\u001b[39m_conv_forward(\u001b[39minput\u001b[39m, \u001b[39mself\u001b[39m\u001b[39m.\u001b[39mweight, \u001b[39mself\u001b[39m\u001b[39m.\u001b[39mbias)\n",
      "File \u001b[0;32m~/miniconda3/envs/gym/lib/python3.11/site-packages/torch/nn/modules/conv.py:459\u001b[0m, in \u001b[0;36mConv2d._conv_forward\u001b[0;34m(self, input, weight, bias)\u001b[0m\n\u001b[1;32m    455\u001b[0m \u001b[39mif\u001b[39;00m \u001b[39mself\u001b[39m\u001b[39m.\u001b[39mpadding_mode \u001b[39m!=\u001b[39m \u001b[39m'\u001b[39m\u001b[39mzeros\u001b[39m\u001b[39m'\u001b[39m:\n\u001b[1;32m    456\u001b[0m     \u001b[39mreturn\u001b[39;00m F\u001b[39m.\u001b[39mconv2d(F\u001b[39m.\u001b[39mpad(\u001b[39minput\u001b[39m, \u001b[39mself\u001b[39m\u001b[39m.\u001b[39m_reversed_padding_repeated_twice, mode\u001b[39m=\u001b[39m\u001b[39mself\u001b[39m\u001b[39m.\u001b[39mpadding_mode),\n\u001b[1;32m    457\u001b[0m                     weight, bias, \u001b[39mself\u001b[39m\u001b[39m.\u001b[39mstride,\n\u001b[1;32m    458\u001b[0m                     _pair(\u001b[39m0\u001b[39m), \u001b[39mself\u001b[39m\u001b[39m.\u001b[39mdilation, \u001b[39mself\u001b[39m\u001b[39m.\u001b[39mgroups)\n\u001b[0;32m--> 459\u001b[0m \u001b[39mreturn\u001b[39;00m F\u001b[39m.\u001b[39mconv2d(\u001b[39minput\u001b[39m, weight, bias, \u001b[39mself\u001b[39m\u001b[39m.\u001b[39mstride,\n\u001b[1;32m    460\u001b[0m                 \u001b[39mself\u001b[39m\u001b[39m.\u001b[39mpadding, \u001b[39mself\u001b[39m\u001b[39m.\u001b[39mdilation, \u001b[39mself\u001b[39m\u001b[39m.\u001b[39mgroups)\n",
      "\u001b[0;31mRuntimeError\u001b[0m: Given groups=1, weight of size [64, 3, 7, 7], expected input[1, 500, 500, 3] to have 3 channels, but got 500 channels instead"
     ]
    }
   ],
   "source": [
    "## Test the environment\n",
    "env = gym.make('grid_world/GridWorld-v4', render_mode='rgb_array', shape=SHAPE)\n",
    "test_episode_rewards = []\n",
    "G = 0\n",
    "images = []\n",
    "\n",
    "observation, info = env.reset(grid_seed=grid_seed, start_target_seed=start_target_seed)\n",
    "images.append(env.render())\n",
    "\n",
    "for _ in range(100):\n",
    "    action = policy_net(state).max(1)[1].item() # Learned policy\n",
    "    observation, reward, terminated, truncated, info = env.step(action)\n",
    "    state = torch.tensor(observation, dtype=torch.float32, device=device).unsqueeze(0)\n",
    "    images.append(env.render())\n",
    "    G += reward\n",
    "\n",
    "    if terminated or truncated:\n",
    "        observation, info = env.reset(grid_seed=grid_seed, start_target_seed=start_target_seed)\n",
    "        test_episode_rewards.append(G)\n",
    "        G = 0\n",
    "\n",
    "\n",
    "env.close()\n",
    "print(test_episode_rewards)\n",
    "imageio.mimsave('./gifs/10-10-random_start-static_grid.gif', images, fps = 5)      "
   ]
  }
 ],
 "metadata": {
  "kernelspec": {
   "display_name": "torch",
   "language": "python",
   "name": "python3"
  },
  "language_info": {
   "codemirror_mode": {
    "name": "ipython",
    "version": 3
   },
   "file_extension": ".py",
   "mimetype": "text/x-python",
   "name": "python",
   "nbconvert_exporter": "python",
   "pygments_lexer": "ipython3",
   "version": "3.11.4"
  },
  "orig_nbformat": 4
 },
 "nbformat": 4,
 "nbformat_minor": 2
}
