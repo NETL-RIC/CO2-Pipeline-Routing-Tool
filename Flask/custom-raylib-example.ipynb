{
 "cells": [
  {
   "cell_type": "code",
   "execution_count": 1,
   "metadata": {},
   "outputs": [],
   "source": [
    "import tqdm\n",
    "from pathlib import Path\n",
    "import matplotlib.pyplot as plt\n",
    "import gymnasium as gym\n",
    "from gymnasium.wrappers import ResizeObservation\n",
    "import imageio\n",
    "\n",
    "import torch\n",
    "import torch.nn as nn\n",
    "from torchvision import transforms\n",
    "from resnet.models import ResNet\n",
    "\n",
    "import ray\n",
    "from ray.rllib.models import ModelCatalog\n",
    "from ray.rllib.models.torch.torch_modelv2 import TorchModelV2\n",
    "from ray.rllib.algorithms.ppo import PPOConfig\n",
    "from ray.rllib.algorithms.algorithm import Algorithm\n",
    "from ray.tune.registry import register_env"
   ]
  },
  {
   "cell_type": "code",
   "execution_count": 4,
   "metadata": {},
   "outputs": [],
   "source": [
    "ENV = 'MsPacman-v4'\n",
    "NUM_WORKERS = 2\n",
    "OBS_SIZE = 112\n",
    "CHECKPOINT = '/home/ben/ray_results/PPO_MsPacman-v4_2023-09-12_11-16-09dsh0e7ad/checkpoint_000010/'"
   ]
  },
  {
   "cell_type": "code",
   "execution_count": 5,
   "metadata": {},
   "outputs": [
    {
     "name": "stdout",
     "output_type": "stream",
     "text": [
      "(210, 160, 3)\n",
      "(112, 112, 3)\n"
     ]
    }
   ],
   "source": [
    "env = gym.make(ENV)\n",
    "# env = gym.make(\"CartPole-v1\")\n",
    "print(env.observation_space.shape)\n",
    "env = ResizeObservation(env, 112)\n",
    "print(env.observation_space.shape)\n",
    "env.close()"
   ]
  },
  {
   "cell_type": "code",
   "execution_count": 6,
   "metadata": {},
   "outputs": [],
   "source": [
    "env = gym.make(ENV, render_mode='human')\n",
    "env = ResizeObservation(env, 112)\n",
    "\n",
    "observation, info = env.reset()\n",
    "\n",
    "\n",
    "for _ in range(200):\n",
    "    action = env.action_space.sample()\n",
    "    observation, reward, terminated, truncated, info = env.step(action)\n",
    "\n",
    "    if terminated or truncated:\n",
    "        observation, info = env.reset()\n",
    "\n",
    "env.close()"
   ]
  },
  {
   "cell_type": "code",
   "execution_count": 7,
   "metadata": {},
   "outputs": [
    {
     "data": {
      "text/plain": [
       "<matplotlib.image.AxesImage at 0x7f0e9ec85000>"
      ]
     },
     "execution_count": 7,
     "metadata": {},
     "output_type": "execute_result"
    },
    {
     "data": {
      "image/png": "[encoded data removed]",
      "text/plain": [
       "<Figure size 640x480 with 1 Axes>"
      ]
     },
     "metadata": {},
     "output_type": "display_data"
    }
   ],
   "source": [
    "plt.imshow(observation)"
   ]
  },
  {
   "cell_type": "code",
   "execution_count": 6,
   "metadata": {},
   "outputs": [],
   "source": [
    "def env_creator(env_config):\n",
    "\n",
    "    # wrapper = gym.wrappers.AtariPreprocessing\n",
    "    env = gym.make(ENV)\n",
    "    # wrapped = wrapper(\n",
    "    #     env, \n",
    "    #     frame_skip=1,\n",
    "    #     screen_size=224,\n",
    "    #     scale_obs=False, \n",
    "    #     grayscale_obs=False\n",
    "    #     )\n",
    "    \n",
    "    render_mode = env_config['render_mode']\n",
    "    env = gym.make(ENV, render_mode=render_mode)\n",
    "\n",
    "    return env"
   ]
  },
  {
   "cell_type": "code",
   "execution_count": 7,
   "metadata": {},
   "outputs": [],
   "source": [
    "class ResNetDQN(nn.Module):\n",
    "    def __init__(self, in_channels, num_blocks, n_actions) -> None:\n",
    "        super(ResNetDQN, self).__init__()\n",
    "        self.encoder = ResNet(in_channels, num_blocks)\n",
    "        self.linear = nn.Linear(256, n_actions)\n",
    "\n",
    "    def forward(self, x) -> torch.Tensor:\n",
    "        x = self.encoder(x)\n",
    "        x = self.linear(x)\n",
    "        return x"
   ]
  },
  {
   "cell_type": "code",
   "execution_count": 8,
   "metadata": {},
   "outputs": [
    {
     "name": "stdout",
     "output_type": "stream",
     "text": [
      "tensor([[ 0.0374,  0.4387, -0.4588,  0.5947, -0.3035]])\n"
     ]
    }
   ],
   "source": [
    "test_model = ResNetDQN(in_channels=3, num_blocks=3, n_actions=5)\n",
    "x = torch.rand(size=(1,3,112,112))\n",
    "\n",
    "with torch.no_grad():\n",
    "    y = test_model(x)\n",
    "print(y)"
   ]
  },
  {
   "cell_type": "code",
   "execution_count": 9,
   "metadata": {},
   "outputs": [
    {
     "name": "stderr",
     "output_type": "stream",
     "text": [
      "2023-09-26 08:49:56,040\tINFO worker.py:1636 -- Started a local Ray instance.\n"
     ]
    },
    {
     "data": {
      "text/html": [
       "<div>\n",
       "    <div style=\"margin-left: 50px;display: flex;flex-direction: row;align-items: center\">\n",
       "        <h3 style=\"color: var(--jp-ui-font-color0)\">Ray</h3>\n",
       "        <svg version=\"1.1\" id=\"ray\" width=\"3em\" viewBox=\"0 0 144.5 144.6\" style=\"margin-left: 3em;margin-right: 3em\">\n",
       "            <g id=\"layer-1\">\n",
       "                <path fill=\"#00a2e9\" class=\"st0\" d=\"M97.3,77.2c-3.8-1.1-6.2,0.9-8.3,5.1c-3.5,6.8-9.9,9.9-17.4,9.6S58,88.1,54.8,81.2c-1.4-3-3-4-6.3-4.1\n",
       "                    c-5.6-0.1-9.9,0.1-13.1,6.4c-3.8,7.6-13.6,10.2-21.8,7.6C5.2,88.4-0.4,80.5,0,71.7c0.1-8.4,5.7-15.8,13.8-18.2\n",
       "                    c8.4-2.6,17.5,0.7,22.3,8c1.3,1.9,1.3,5.2,3.6,5.6c3.9,0.6,8,0.2,12,0.2c1.8,0,1.9-1.6,2.4-2.8c3.5-7.8,9.7-11.8,18-11.9\n",
       "                    c8.2-0.1,14.4,3.9,17.8,11.4c1.3,2.8,2.9,3.6,5.7,3.3c1-0.1,2,0.1,3,0c2.8-0.5,6.4,1.7,8.1-2.7s-2.3-5.5-4.1-7.5\n",
       "                    c-5.1-5.7-10.9-10.8-16.1-16.3C84,38,81.9,37.1,78,38.3C66.7,42,56.2,35.7,53,24.1C50.3,14,57.3,2.8,67.7,0.5\n",
       "                    C78.4-2,89,4.7,91.5,15.3c0.1,0.3,0.1,0.5,0.2,0.8c0.7,3.4,0.7,6.9-0.8,9.8c-1.7,3.2-0.8,5,1.5,7.2c6.7,6.5,13.3,13,19.8,19.7\n",
       "                    c1.8,1.8,3,2.1,5.5,1.2c9.1-3.4,17.9-0.6,23.4,7c4.8,6.9,4.6,16.1-0.4,22.9c-5.4,7.2-14.2,9.9-23.1,6.5c-2.3-0.9-3.5-0.6-5.1,1.1\n",
       "                    c-6.7,6.9-13.6,13.7-20.5,20.4c-1.8,1.8-2.5,3.2-1.4,5.9c3.5,8.7,0.3,18.6-7.7,23.6c-7.9,5-18.2,3.8-24.8-2.9\n",
       "                    c-6.4-6.4-7.4-16.2-2.5-24.3c4.9-7.8,14.5-11,23.1-7.8c3,1.1,4.7,0.5,6.9-1.7C91.7,98.4,98,92.3,104.2,86c1.6-1.6,4.1-2.7,2.6-6.2\n",
       "                    c-1.4-3.3-3.8-2.5-6.2-2.6C99.8,77.2,98.9,77.2,97.3,77.2z M72.1,29.7c5.5,0.1,9.9-4.3,10-9.8c0-0.1,0-0.2,0-0.3\n",
       "                    C81.8,14,77,9.8,71.5,10.2c-5,0.3-9,4.2-9.3,9.2c-0.2,5.5,4,10.1,9.5,10.3C71.8,29.7,72,29.7,72.1,29.7z M72.3,62.3\n",
       "                    c-5.4-0.1-9.9,4.2-10.1,9.7c0,0.2,0,0.3,0,0.5c0.2,5.4,4.5,9.7,9.9,10c5.1,0.1,9.9-4.7,10.1-9.8c0.2-5.5-4-10-9.5-10.3\n",
       "                    C72.6,62.3,72.4,62.3,72.3,62.3z M115,72.5c0.1,5.4,4.5,9.7,9.8,9.9c5.6-0.2,10-4.8,10-10.4c-0.2-5.4-4.6-9.7-10-9.7\n",
       "                    c-5.3-0.1-9.8,4.2-9.9,9.5C115,72.1,115,72.3,115,72.5z M19.5,62.3c-5.4,0.1-9.8,4.4-10,9.8c-0.1,5.1,5.2,10.4,10.2,10.3\n",
       "                    c5.6-0.2,10-4.9,9.8-10.5c-0.1-5.4-4.5-9.7-9.9-9.6C19.6,62.3,19.5,62.3,19.5,62.3z M71.8,134.6c5.9,0.2,10.3-3.9,10.4-9.6\n",
       "                    c0.5-5.5-3.6-10.4-9.1-10.8c-5.5-0.5-10.4,3.6-10.8,9.1c0,0.5,0,0.9,0,1.4c-0.2,5.3,4,9.8,9.3,10\n",
       "                    C71.6,134.6,71.7,134.6,71.8,134.6z\"/>\n",
       "            </g>\n",
       "        </svg>\n",
       "        <table>\n",
       "            <tr>\n",
       "                <td style=\"text-align: left\"><b>Python version:</b></td>\n",
       "                <td style=\"text-align: left\"><b>3.11.5</b></td>\n",
       "            </tr>\n",
       "            <tr>\n",
       "                <td style=\"text-align: left\"><b>Ray version:</b></td>\n",
       "                <td style=\"text-align: left\"><b> 2.5.0</b></td>\n",
       "            </tr>\n",
       "            \n",
       "        </table>\n",
       "    </div>\n",
       "</div>\n"
      ],
      "text/plain": [
       "RayContext(dashboard_url='', python_version='3.11.5', ray_version='2.5.0', ray_commit='586c376e0769082cb5cfa1333e8264a5fa6b73ec', address_info={'node_ip_address': '172.30.252.39', 'raylet_ip_address': '172.30.252.39', 'redis_address': None, 'object_store_address': '/tmp/ray/session_2023-09-26_08-49-54_223119_3415/sockets/plasma_store', 'raylet_socket_name': '/tmp/ray/session_2023-09-26_08-49-54_223119_3415/sockets/raylet', 'webui_url': '', 'session_dir': '/tmp/ray/session_2023-09-26_08-49-54_223119_3415', 'metrics_export_port': 59935, 'gcs_address': '172.30.252.39:61874', 'address': '172.30.252.39:61874', 'dashboard_agent_listen_port': 52365, 'node_id': '4dc0b1dce73470a51d6c3f9f82ef7e30574b695bf2919c69522a6f55'})"
      ]
     },
     "execution_count": 9,
     "metadata": {},
     "output_type": "execute_result"
    }
   ],
   "source": [
    "ray.shutdown()\n",
    "ray.init(ignore_reinit_error=True, include_dashboard=True)"
   ]
  },
  {
   "cell_type": "code",
   "execution_count": 35,
   "metadata": {},
   "outputs": [],
   "source": [
    "register_env('pac-man', env_creator)"
   ]
  },
  {
   "cell_type": "code",
   "execution_count": 10,
   "metadata": {},
   "outputs": [],
   "source": [
    "class CustomTorchModel(TorchModelV2, nn.Module):\n",
    "    \n",
    "    def __init__(self, obs_space, action_space, num_outputs, model_config, name):\n",
    "        super(CustomTorchModel, self).__init__(obs_space, action_space, num_outputs, model_config, name)\n",
    "        nn.Module.__init__(self)\n",
    "\n",
    "        self.encoder = ResNet(in_channels=3, num_blocks=3)\n",
    "        self.policy_fc = nn.Linear(in_features=256, out_features=action_space.n)\n",
    "        self.value_fc = nn.Linear(in_features=256, out_features=1)\n",
    "    \n",
    "    def forward(self, input_dict, state, seq_lens):\n",
    "        is_training = input_dict.is_training\n",
    "        observation = input_dict['obs']\n",
    "        \n",
    "        tensor = torch.moveaxis(observation, -1, 1)\n",
    "        encoded_obs = self.encoder(tensor)\n",
    "        logits = self.policy_fc(encoded_obs)\n",
    "        self.state_value = self.value_fc(encoded_obs)\n",
    "\n",
    "        return logits, []\n",
    "    \n",
    "    def value_function(self):\n",
    "        return self.state_value.squeeze(-1)\n",
    "\n",
    "ModelCatalog.register_custom_model(\"my_torch_model\", CustomTorchModel)"
   ]
  },
  {
   "cell_type": "code",
   "execution_count": 14,
   "metadata": {},
   "outputs": [],
   "source": [
    "model_config = {\n",
    "    'custom_model': 'my_torch_model',\n",
    "    'custom_model_config': {},\n",
    "    'dim': OBS_SIZE\n",
    "}\n",
    "\n",
    "config = PPOConfig()\n",
    "\n",
    "# config = ppo.PPO(env='pac-man', config=algo_config)\n",
    "config.env_config.update({'render_mode': None})\n",
    "\n",
    "# Define the environment\n",
    "config = config.environment(ENV)\n",
    "\n",
    "# Give or do not give access to the gpu\n",
    "config = config.resources(num_gpus=0)\n",
    "\n",
    "# Set the number of training roll out workers\n",
    "config = config.rollouts(num_rollout_workers=NUM_WORKERS)\n",
    "\n",
    "config.model.update(model_config)\n",
    "\n",
    "# Set the max number of episode steps\n",
    "# config.horizon = 30\n",
    "\n",
    "# Set the number of evaluation workers\n",
    "# config = config.evaluation(evaluation_num_workers=1)\n",
    "\n",
    "# Set framework to pytorch\n",
    "config = config.framework('torch')\n",
    "\n",
    "# These lines are needed to avoid using the RL Module API currently in Alpha\n",
    "# config = config.rl_module( _enable_rl_module_api=False)\n",
    "# config = config.training(_enable_learner_api=False)\n"
   ]
  },
  {
   "cell_type": "code",
   "execution_count": 15,
   "metadata": {},
   "outputs": [
    {
     "name": "stdout",
     "output_type": "stream",
     "text": [
      "{'type': 'StochasticSampling'}\n",
      "{'render_mode': None}\n",
      "{'_disable_preprocessor_api': False, '_disable_action_flattening': False, 'fcnet_hiddens': [256, 256], 'fcnet_activation': 'tanh', 'conv_filters': None, 'conv_activation': 'relu', 'post_fcnet_hiddens': [], 'post_fcnet_activation': 'relu', 'free_log_std': False, 'no_final_linear': False, 'vf_share_layers': False, 'use_lstm': False, 'max_seq_len': 20, 'lstm_cell_size': 256, 'lstm_use_prev_action': False, 'lstm_use_prev_reward': False, '_time_major': False, 'use_attention': False, 'attention_num_transformer_units': 1, 'attention_dim': 64, 'attention_num_heads': 1, 'attention_head_dim': 32, 'attention_memory_inference': 50, 'attention_memory_training': 50, 'attention_position_wise_mlp_dim': 32, 'attention_init_gru_gate_bias': 2.0, 'attention_use_n_prev_actions': 0, 'attention_use_n_prev_rewards': 0, 'framestack': True, 'dim': 112, 'grayscale': False, 'zero_mean': True, 'custom_model': 'my_torch_model', 'custom_model_config': {}, 'custom_action_dist': None, 'custom_preprocessor': None, 'encoder_latent_dim': None, 'always_check_shapes': False, 'lstm_use_prev_action_reward': -1, '_use_default_native_models': -1}\n"
     ]
    }
   ],
   "source": [
    "print(config.exploration_config)\n",
    "print(config.env_config)\n",
    "print(config.model)"
   ]
  },
  {
   "cell_type": "code",
   "execution_count": 16,
   "metadata": {},
   "outputs": [
    {
     "name": "stdout",
     "output_type": "stream",
     "text": [
      "Training a new model...\n"
     ]
    },
    {
     "name": "stderr",
     "output_type": "stream",
     "text": [
      "\u001b[2m\u001b[36m(RolloutWorker pid=9796)\u001b[0m A.L.E: Arcade Learning Environment (version 0.8.1+53f58b7)\u001b[32m [repeated 2x across cluster] (Ray deduplicates logs by default. Set RAY_DEDUP_LOGS=0 to disable log deduplication, or see https://docs.ray.io/en/master/ray-observability/ray-logging.html#log-deduplication for more options.)\u001b[0m\n",
      "\u001b[2m\u001b[36m(RolloutWorker pid=9796)\u001b[0m [Powered by Stella]\u001b[32m [repeated 2x across cluster]\u001b[0m\n",
      "2023-09-26 09:26:02,764\tWARNING util.py:68 -- Install gputil for GPU system monitoring.\n"
     ]
    }
   ],
   "source": [
    "if Path(CHECKPOINT).exists():\n",
    "    print('Loading model from {}'.format(CHECKPOINT))\n",
    "    algo = Algorithm.from_checkpoint(CHECKPOINT)\n",
    "else:\n",
    "    print('Training a new model...')\n",
    "    algo = config.build()"
   ]
  },
  {
   "cell_type": "code",
   "execution_count": 17,
   "metadata": {},
   "outputs": [
    {
     "name": "stderr",
     "output_type": "stream",
     "text": [
      "Training Progress: 100%|██████████| 10/10 [1:29:45<00:00, 538.57s/it]"
     ]
    },
    {
     "name": "stdout",
     "output_type": "stream",
     "text": [
      "/home/ben/ray_results/PPO_MsPacman-v4_2023-09-26_09-25-57s2i6x535/checkpoint_000010\n"
     ]
    },
    {
     "name": "stderr",
     "output_type": "stream",
     "text": [
      "\n"
     ]
    }
   ],
   "source": [
    "TRAINING_ITERATIONS = 10\n",
    "EVAL_INTERVAL = 1\n",
    "CHECKPOINT_INTERVAL = 5\n",
    "checkpoint_paths = []\n",
    "\n",
    "\n",
    "for i in tqdm.tqdm(range(TRAINING_ITERATIONS), 'Training Progress'):\n",
    "    \n",
    "    algo.train()\n",
    "\n",
    "    if (i+1) % CHECKPOINT_INTERVAL == 0:\n",
    "        checkpoint_paths.append(algo.save())\n",
    "        # metrics = algo.evaluate()['evaluation']\n",
    "        # rewards.append(metrics['episode_reward_mean'])\n",
    "        # lengths.append(metrics['episode_len_mean'])\n",
    "        # plot_metrics(rewards, lengths)\n",
    "\n",
    "print(checkpoint_paths[-1])"
   ]
  },
  {
   "cell_type": "markdown",
   "metadata": {},
   "source": [
    "It appears that the newer version of ray automatically attempts to transform the observation based model configurations. In older versions if you had to perform the transformation step yourself. Thus, the cell block below is no longer necessary and will give an error if you attempt to transform the observation before it is passed to the ray algorithm."
   ]
  },
  {
   "cell_type": "code",
   "execution_count": 19,
   "metadata": {},
   "outputs": [
    {
     "name": "stdout",
     "output_type": "stream",
     "text": [
      "(210, 160, 3)\n",
      "6\n"
     ]
    }
   ],
   "source": [
    "env = gym.make(ENV)\n",
    "# env = ResizeObservation(env, 112)\n",
    "observation, info = env.reset()\n",
    "print(observation.shape)\n",
    "action = algo.compute_single_action(observation)\n",
    "print(action)\n",
    "env.close()\n",
    "# transformer = transforms.ToTensor()\n",
    "# tensor = transformer(observation).unsqueeze(0)\n",
    "# print(tensor.shape)"
   ]
  },
  {
   "cell_type": "code",
   "execution_count": 24,
   "metadata": {},
   "outputs": [],
   "source": [
    "env = gym.make(ENV, render_mode='rgb_array')\n",
    "observation_images = []\n",
    "# env = gym.make(ENV)\n",
    "# env = ResizeObservation(env, 112)\n",
    "\n",
    "observation, info = env.reset()\n",
    "observation_images.append(observation)\n",
    "# tensor = transformer(observation).unsqueeze(0)\n",
    "\n",
    "for _ in range(1000):\n",
    "   # action = algo.compute_single_action(tensor)\n",
    "   observation_images.append(observation)\n",
    "   action = algo.compute_single_action(observation)\n",
    "   observation, reward, terminated, truncated, info = env.step(action)\n",
    "   # tensor = transformer(observation).unsqueeze(0)\n",
    "\n",
    "\n",
    "   if terminated or truncated:\n",
    "      observation_images.append(observation)\n",
    "      observation, info = env.reset()\n",
    "      # tensor = transformer(observation).unsqueeze(0)\n",
    "\n",
    "\n",
    "env.close()\n",
    "fps=480\n",
    "duration = 1000/fps # duration in ms\n",
    "imageio.mimsave('/home/ben/gifs/pacman/pacman-test-0.gif', observation_images, duration=duration)  "
   ]
  }
 ],
 "metadata": {
  "kernelspec": {
   "display_name": "ray",
   "language": "python",
   "name": "python3"
  },
  "language_info": {
   "codemirror_mode": {
    "name": "ipython",
    "version": 3
   },
   "file_extension": ".py",
   "mimetype": "text/x-python",
   "name": "python",
   "nbconvert_exporter": "python",
   "pygments_lexer": "ipython3",
   "version": "3.11.5"
  },
  "orig_nbformat": 4
 },
 "nbformat": 4,
 "nbformat_minor": 2
}
