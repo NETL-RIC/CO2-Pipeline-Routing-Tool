{
 "cells": [
  {
   "attachments": {},
   "cell_type": "markdown",
   "metadata": {},
   "source": [
    "## Defining a custom gym environment\n",
    "- Note this example was taken from the [gymnasium documentation](https://gymnasium.farama.org/tutorials/gymnasium_basics/environment_creation/)\n",
    "- Observations provide the location of the target and agent.\n",
    "- There are 4 actions in our environment, corresponding to the movements \"right\", \"up\", \"left\", and \"down\".\n",
    "- A done signal is issued as soon as the agent has navigated to the grid cell where the target is located.\n",
    "- Rewards are binary and sparse, meaning that the immediate reward is always zero, unless the agent has reached the target, then it is 1."
   ]
  },
  {
   "cell_type": "code",
   "execution_count": 2,
   "metadata": {},
   "outputs": [
    {
     "name": "stdout",
     "output_type": "stream",
     "text": [
      "(array([1, 2, 0, 1]), {'distance': 2.0})\n"
     ]
    }
   ],
   "source": [
    "import gym_examples\n",
    "import gymnasium as gym\n",
    "from gymnasium.wrappers import FlattenObservation\n",
    "\n",
    "env = gym.make('gym_examples/GridWorld-v0')\n",
    "wrapped_env = FlattenObservation(env)\n",
    "print(wrapped_env.reset())     # E.g.  [3 0 3 3], {}\n",
    "env.close()"
   ]
  },
  {
   "attachments": {},
   "cell_type": "markdown",
   "metadata": {},
   "source": [
    "## Rendering in human mode"
   ]
  },
  {
   "cell_type": "code",
   "execution_count": null,
   "metadata": {},
   "outputs": [],
   "source": [
    "## Test the environment\n",
    "env = gym.make('gym_examples/GridWorld-v0', render_mode='human')\n",
    "observation, info = env.reset(seed=42)\n",
    "for _ in range(100):\n",
    "   action = env.action_space.sample()  # this is where you would insert your policy\n",
    "   observation, reward, terminated, truncated, info = env.step(action)\n",
    "\n",
    "   if terminated or truncated:\n",
    "      observation, info = env.reset()\n",
    "\n",
    "env.close()"
   ]
  },
  {
   "cell_type": "code",
   "execution_count": null,
   "metadata": {},
   "outputs": [],
   "source": [
    "## Test the environment\n",
    "\n",
    "env = gym.make(\"LunarLander-v2\", render_mode=\"rgb_array\")\n",
    "episode_rewards = []\n",
    "G = 0\n",
    "random_images = []\n",
    "\n",
    "observation, info = env.reset(seed=42)\n",
    "random_images.append(env.render())\n",
    "\n",
    "for _ in range(1000):\n",
    "    action = env.action_space.sample()  # this is where you would insert your policy\n",
    "    observation, reward, terminated, truncated, info = env.step(action)\n",
    "    random_images.append(env.render())\n",
    "\n",
    "    if terminated or truncated:\n",
    "        observation, info = env.reset()\n",
    "        episode_rewards.append(G)\n",
    "        G = 0\n",
    "\n",
    "    else:\n",
    "        G += reward\n",
    "\n",
    "env.close()\n",
    "print(episode_rewards)\n",
    "# imageio.mimsave('./gifs/random-net.gif', random_images, fps = 60)      "
   ]
  }
 ],
 "metadata": {
  "kernelspec": {
   "display_name": "torch",
   "language": "python",
   "name": "python3"
  },
  "language_info": {
   "codemirror_mode": {
    "name": "ipython",
    "version": 3
   },
   "file_extension": ".py",
   "mimetype": "text/x-python",
   "name": "python",
   "nbconvert_exporter": "python",
   "pygments_lexer": "ipython3",
   "version": "3.10.9"
  },
  "orig_nbformat": 4
 },
 "nbformat": 4,
 "nbformat_minor": 2
}
