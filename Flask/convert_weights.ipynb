{
 "cells": [
  {
   "cell_type": "code",
   "execution_count": 1,
   "metadata": {},
   "outputs": [],
   "source": [
    "import torch\n",
    "import torch.nn as nn\n",
    "from agent import CustomTorchModel\n",
    "from ray.rllib.models.torch.torch_modelv2 import TorchModelV2\n",
    "from resnet.models import ResNet"
   ]
  },
  {
   "cell_type": "code",
   "execution_count": 2,
   "metadata": {},
   "outputs": [],
   "source": [
    "class CustomTorchModel(TorchModelV2, nn.Module):\n",
    "    \n",
    "    def __init__(self, obs_space, action_space, num_outputs, model_config, name):\n",
    "        super(CustomTorchModel, self).__init__(obs_space, action_space, num_outputs, model_config, name)\n",
    "        nn.Module.__init__(self)\n",
    "\n",
    "        self.encoder = ResNet(in_channels=9, num_blocks=3)\n",
    "        self.policy_fc = nn.Linear(in_features=256, out_features=8)\n",
    "        self.value_fc = nn.Linear(in_features=256, out_features=1)\n",
    "    \n",
    "    def forward(self, observation, state, seq_lens):\n",
    "        # is_training = input_dict.is_training\n",
    "        # observation = input_dict['obs'] # observation must be passed as tensor for torch scripted\n",
    "\n",
    "        assert isinstance(observation, torch.Tensor)\n",
    "        # assert observation.shape[]\n",
    "        # tensor = torch.tensor(observation).to(torch.float)\n",
    "        # tensor = torch.tensor(observation, dtype=torch.float)\n",
    "        # tensor = torch.moveaxis(observation, -1, 1)\n",
    "        encoded_obs = self.encoder(observation)\n",
    "        logits = self.policy_fc(encoded_obs)\n",
    "        self.state_value = self.value_fc(encoded_obs)\n",
    "\n",
    "        return logits, []\n",
    "    \n",
    "    def value_function(self):\n",
    "        return self.state_value.squeeze(-1)"
   ]
  },
  {
   "cell_type": "code",
   "execution_count": 3,
   "metadata": {},
   "outputs": [
    {
     "data": {
      "text/plain": [
       "numpy.int64"
      ]
     },
     "execution_count": 3,
     "metadata": {},
     "output_type": "execute_result"
    }
   ],
   "source": [
    "model = torch.load('./trained_model/model.pt')\n",
    "type(model.policy_fc.out_features)"
   ]
  },
  {
   "cell_type": "code",
   "execution_count": 4,
   "metadata": {},
   "outputs": [
    {
     "data": {
      "text/plain": [
       "int"
      ]
     },
     "execution_count": 4,
     "metadata": {},
     "output_type": "execute_result"
    }
   ],
   "source": [
    "model.policy_fc.out_features = int(model.policy_fc.out_features)\n",
    "type(model.policy_fc.out_features)"
   ]
  },
  {
   "cell_type": "code",
   "execution_count": 5,
   "metadata": {},
   "outputs": [],
   "source": [
    "model_scripted = torch.jit.script(model) # Export to TorchScript\n",
    "model_scripted.save('./trained_model/model_scripted.pt')"
   ]
  }
 ],
 "metadata": {
  "kernelspec": {
   "display_name": "ray",
   "language": "python",
   "name": "python3"
  },
  "language_info": {
   "codemirror_mode": {
    "name": "ipython",
    "version": 3
   },
   "file_extension": ".py",
   "mimetype": "text/x-python",
   "name": "python",
   "nbconvert_exporter": "python",
   "pygments_lexer": "ipython3",
   "version": "3.11.5"
  }
 },
 "nbformat": 4,
 "nbformat_minor": 2
}
